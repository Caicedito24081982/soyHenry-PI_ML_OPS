{
 "cells": [
  {
   "cell_type": "markdown",
   "metadata": {},
   "source": [
    "                          EDA Y ETL DEL DATASET, (\"steam_games.gz.json\")"
   ]
  },
  {
   "cell_type": "markdown",
   "metadata": {},
   "source": [
    "1) DESCARGA DE ALGUNAS LIBRERIAS NECESARIAS"
   ]
  },
  {
   "cell_type": "code",
   "execution_count": 1,
   "metadata": {},
   "outputs": [
    {
     "name": "stdout",
     "output_type": "stream",
     "text": [
      "Requirement already satisfied: pandas in c:\\users\\asus\\appdata\\local\\packages\\pythonsoftwarefoundation.python.3.10_qbz5n2kfra8p0\\localcache\\local-packages\\python310\\site-packages (2.1.1)\n",
      "Requirement already satisfied: numpy>=1.22.4 in c:\\users\\asus\\appdata\\local\\packages\\pythonsoftwarefoundation.python.3.10_qbz5n2kfra8p0\\localcache\\local-packages\\python310\\site-packages (from pandas) (1.25.2)\n",
      "Requirement already satisfied: python-dateutil>=2.8.2 in c:\\users\\asus\\appdata\\local\\packages\\pythonsoftwarefoundation.python.3.10_qbz5n2kfra8p0\\localcache\\local-packages\\python310\\site-packages (from pandas) (2.8.2)\n",
      "Requirement already satisfied: pytz>=2020.1 in c:\\users\\asus\\appdata\\local\\packages\\pythonsoftwarefoundation.python.3.10_qbz5n2kfra8p0\\localcache\\local-packages\\python310\\site-packages (from pandas) (2023.3.post1)\n",
      "Requirement already satisfied: tzdata>=2022.1 in c:\\users\\asus\\appdata\\local\\packages\\pythonsoftwarefoundation.python.3.10_qbz5n2kfra8p0\\localcache\\local-packages\\python310\\site-packages (from pandas) (2023.3)\n",
      "Requirement already satisfied: six>=1.5 in c:\\users\\asus\\appdata\\local\\packages\\pythonsoftwarefoundation.python.3.10_qbz5n2kfra8p0\\localcache\\local-packages\\python310\\site-packages (from python-dateutil>=2.8.2->pandas) (1.16.0)\n",
      "Note: you may need to restart the kernel to use updated packages.\n"
     ]
    },
    {
     "name": "stderr",
     "output_type": "stream",
     "text": [
      "\n",
      "[notice] A new release of pip is available: 23.3.1 -> 23.3.2\n",
      "[notice] To update, run: C:\\Users\\ASUS\\AppData\\Local\\Microsoft\\WindowsApps\\PythonSoftwareFoundation.Python.3.10_qbz5n2kfra8p0\\python.exe -m pip install --upgrade pip\n"
     ]
    }
   ],
   "source": [
    "pip install pandas"
   ]
  },
  {
   "cell_type": "code",
   "execution_count": 2,
   "metadata": {},
   "outputs": [
    {
     "name": "stdout",
     "output_type": "stream",
     "text": [
      "Requirement already satisfied: gdown in c:\\users\\asus\\appdata\\local\\packages\\pythonsoftwarefoundation.python.3.10_qbz5n2kfra8p0\\localcache\\local-packages\\python310\\site-packages (4.7.1)\n",
      "Requirement already satisfied: filelock in c:\\users\\asus\\appdata\\local\\packages\\pythonsoftwarefoundation.python.3.10_qbz5n2kfra8p0\\localcache\\local-packages\\python310\\site-packages (from gdown) (3.12.4)\n",
      "Requirement already satisfied: requests[socks] in c:\\users\\asus\\appdata\\local\\packages\\pythonsoftwarefoundation.python.3.10_qbz5n2kfra8p0\\localcache\\local-packages\\python310\\site-packages (from gdown) (2.31.0)\n",
      "Requirement already satisfied: six in c:\\users\\asus\\appdata\\local\\packages\\pythonsoftwarefoundation.python.3.10_qbz5n2kfra8p0\\localcache\\local-packages\\python310\\site-packages (from gdown) (1.16.0)\n",
      "Requirement already satisfied: tqdm in c:\\users\\asus\\appdata\\local\\packages\\pythonsoftwarefoundation.python.3.10_qbz5n2kfra8p0\\localcache\\local-packages\\python310\\site-packages (from gdown) (4.66.1)\n",
      "Requirement already satisfied: beautifulsoup4 in c:\\users\\asus\\appdata\\local\\packages\\pythonsoftwarefoundation.python.3.10_qbz5n2kfra8p0\\localcache\\local-packages\\python310\\site-packages (from gdown) (4.12.2)\n",
      "Requirement already satisfied: soupsieve>1.2 in c:\\users\\asus\\appdata\\local\\packages\\pythonsoftwarefoundation.python.3.10_qbz5n2kfra8p0\\localcache\\local-packages\\python310\\site-packages (from beautifulsoup4->gdown) (2.5)\n",
      "Requirement already satisfied: charset-normalizer<4,>=2 in c:\\users\\asus\\appdata\\local\\packages\\pythonsoftwarefoundation.python.3.10_qbz5n2kfra8p0\\localcache\\local-packages\\python310\\site-packages (from requests[socks]->gdown) (3.3.0)\n",
      "Requirement already satisfied: idna<4,>=2.5 in c:\\users\\asus\\appdata\\local\\packages\\pythonsoftwarefoundation.python.3.10_qbz5n2kfra8p0\\localcache\\local-packages\\python310\\site-packages (from requests[socks]->gdown) (3.4)\n",
      "Requirement already satisfied: urllib3<3,>=1.21.1 in c:\\users\\asus\\appdata\\local\\packages\\pythonsoftwarefoundation.python.3.10_qbz5n2kfra8p0\\localcache\\local-packages\\python310\\site-packages (from requests[socks]->gdown) (2.0.7)\n",
      "Requirement already satisfied: certifi>=2017.4.17 in c:\\users\\asus\\appdata\\local\\packages\\pythonsoftwarefoundation.python.3.10_qbz5n2kfra8p0\\localcache\\local-packages\\python310\\site-packages (from requests[socks]->gdown) (2023.7.22)\n",
      "Requirement already satisfied: PySocks!=1.5.7,>=1.5.6 in c:\\users\\asus\\appdata\\local\\packages\\pythonsoftwarefoundation.python.3.10_qbz5n2kfra8p0\\localcache\\local-packages\\python310\\site-packages (from requests[socks]->gdown) (1.7.1)\n",
      "Requirement already satisfied: colorama in c:\\users\\asus\\appdata\\local\\packages\\pythonsoftwarefoundation.python.3.10_qbz5n2kfra8p0\\localcache\\local-packages\\python310\\site-packages (from tqdm->gdown) (0.4.6)\n",
      "Note: you may need to restart the kernel to use updated packages.\n"
     ]
    },
    {
     "name": "stderr",
     "output_type": "stream",
     "text": [
      "\n",
      "[notice] A new release of pip is available: 23.3.1 -> 23.3.2\n",
      "[notice] To update, run: C:\\Users\\ASUS\\AppData\\Local\\Microsoft\\WindowsApps\\PythonSoftwareFoundation.Python.3.10_qbz5n2kfra8p0\\python.exe -m pip install --upgrade pip\n"
     ]
    }
   ],
   "source": [
    "pip install gdown"
   ]
  },
  {
   "cell_type": "code",
   "execution_count": 3,
   "metadata": {},
   "outputs": [
    {
     "name": "stdout",
     "output_type": "stream",
     "text": [
      "Requirement already satisfied: dtale in c:\\users\\asus\\appdata\\local\\packages\\pythonsoftwarefoundation.python.3.10_qbz5n2kfra8p0\\localcache\\local-packages\\python310\\site-packages (3.8.1)Note: you may need to restart the kernel to use updated packages.\n",
      "\n",
      "Requirement already satisfied: dash-colorscales in c:\\users\\asus\\appdata\\local\\packages\\pythonsoftwarefoundation.python.3.10_qbz5n2kfra8p0\\localcache\\local-packages\\python310\\site-packages (from dtale) (0.0.4)\n",
      "Requirement already satisfied: dash-daq in c:\\users\\asus\\appdata\\local\\packages\\pythonsoftwarefoundation.python.3.10_qbz5n2kfra8p0\\localcache\\local-packages\\python310\\site-packages (from dtale) (0.5.0)\n",
      "Requirement already satisfied: Flask-Compress in c:\\users\\asus\\appdata\\local\\packages\\pythonsoftwarefoundation.python.3.10_qbz5n2kfra8p0\\localcache\\local-packages\\python310\\site-packages (from dtale) (1.14)\n",
      "Requirement already satisfied: future>=0.14.0 in c:\\users\\asus\\appdata\\local\\packages\\pythonsoftwarefoundation.python.3.10_qbz5n2kfra8p0\\localcache\\local-packages\\python310\\site-packages (from dtale) (0.18.3)\n",
      "Requirement already satisfied: kaleido in c:\\users\\asus\\appdata\\local\\packages\\pythonsoftwarefoundation.python.3.10_qbz5n2kfra8p0\\localcache\\local-packages\\python310\\site-packages (from dtale) (0.2.1)\n",
      "Requirement already satisfied: missingno in c:\\users\\asus\\appdata\\local\\packages\\pythonsoftwarefoundation.python.3.10_qbz5n2kfra8p0\\localcache\\local-packages\\python310\\site-packages (from dtale) (0.5.2)\n",
      "Requirement already satisfied: pandas in c:\\users\\asus\\appdata\\local\\packages\\pythonsoftwarefoundation.python.3.10_qbz5n2kfra8p0\\localcache\\local-packages\\python310\\site-packages (from dtale) (2.1.1)\n",
      "Requirement already satisfied: squarify in c:\\users\\asus\\appdata\\local\\packages\\pythonsoftwarefoundation.python.3.10_qbz5n2kfra8p0\\localcache\\local-packages\\python310\\site-packages (from dtale) (0.4.3)\n",
      "Requirement already satisfied: strsimpy in c:\\users\\asus\\appdata\\local\\packages\\pythonsoftwarefoundation.python.3.10_qbz5n2kfra8p0\\localcache\\local-packages\\python310\\site-packages (from dtale) (0.2.1)\n",
      "Requirement already satisfied: six in c:\\users\\asus\\appdata\\local\\packages\\pythonsoftwarefoundation.python.3.10_qbz5n2kfra8p0\\localcache\\local-packages\\python310\\site-packages (from dtale) (1.16.0)\n",
      "Requirement already satisfied: xlrd in c:\\users\\asus\\appdata\\local\\packages\\pythonsoftwarefoundation.python.3.10_qbz5n2kfra8p0\\localcache\\local-packages\\python310\\site-packages (from dtale) (2.0.1)\n",
      "Requirement already satisfied: beautifulsoup4 in c:\\users\\asus\\appdata\\local\\packages\\pythonsoftwarefoundation.python.3.10_qbz5n2kfra8p0\\localcache\\local-packages\\python310\\site-packages (from dtale) (4.12.2)\n",
      "Requirement already satisfied: certifi in c:\\users\\asus\\appdata\\local\\packages\\pythonsoftwarefoundation.python.3.10_qbz5n2kfra8p0\\localcache\\local-packages\\python310\\site-packages (from dtale) (2023.7.22)\n",
      "Requirement already satisfied: flask-ngrok in c:\\users\\asus\\appdata\\local\\packages\\pythonsoftwarefoundation.python.3.10_qbz5n2kfra8p0\\localcache\\local-packages\\python310\\site-packages (from dtale) (0.0.25)\n",
      "Requirement already satisfied: lz4 in c:\\users\\asus\\appdata\\local\\packages\\pythonsoftwarefoundation.python.3.10_qbz5n2kfra8p0\\localcache\\local-packages\\python310\\site-packages (from dtale) (4.3.2)\n",
      "Requirement already satisfied: cycler in c:\\users\\asus\\appdata\\local\\packages\\pythonsoftwarefoundation.python.3.10_qbz5n2kfra8p0\\localcache\\local-packages\\python310\\site-packages (from dtale) (0.12.1)\n",
      "Requirement already satisfied: dash-bootstrap-components<=1.3.1 in c:\\users\\asus\\appdata\\local\\packages\\pythonsoftwarefoundation.python.3.10_qbz5n2kfra8p0\\localcache\\local-packages\\python310\\site-packages (from dtale) (1.3.1)\n",
      "Requirement already satisfied: dash in c:\\users\\asus\\appdata\\local\\packages\\pythonsoftwarefoundation.python.3.10_qbz5n2kfra8p0\\localcache\\local-packages\\python310\\site-packages (from dtale) (2.14.2)\n",
      "Requirement already satisfied: scikit-learn in c:\\users\\asus\\appdata\\local\\packages\\pythonsoftwarefoundation.python.3.10_qbz5n2kfra8p0\\localcache\\local-packages\\python310\\site-packages (from dtale) (1.3.1)\n",
      "Requirement already satisfied: seaborn in c:\\users\\asus\\appdata\\local\\packages\\pythonsoftwarefoundation.python.3.10_qbz5n2kfra8p0\\localcache\\local-packages\\python310\\site-packages (from dtale) (0.12.2)\n",
      "Requirement already satisfied: statsmodels in c:\\users\\asus\\appdata\\local\\packages\\pythonsoftwarefoundation.python.3.10_qbz5n2kfra8p0\\localcache\\local-packages\\python310\\site-packages (from dtale) (0.14.0)\n",
      "Requirement already satisfied: werkzeug in c:\\users\\asus\\appdata\\local\\packages\\pythonsoftwarefoundation.python.3.10_qbz5n2kfra8p0\\localcache\\local-packages\\python310\\site-packages (from dtale) (3.0.1)\n",
      "Requirement already satisfied: networkx in c:\\users\\asus\\appdata\\local\\packages\\pythonsoftwarefoundation.python.3.10_qbz5n2kfra8p0\\localcache\\local-packages\\python310\\site-packages (from dtale) (3.2.1)\n",
      "Requirement already satisfied: numpy in c:\\users\\asus\\appdata\\local\\packages\\pythonsoftwarefoundation.python.3.10_qbz5n2kfra8p0\\localcache\\local-packages\\python310\\site-packages (from dtale) (1.25.2)\n",
      "Requirement already satisfied: openpyxl!=3.2.0b1 in c:\\users\\asus\\appdata\\local\\packages\\pythonsoftwarefoundation.python.3.10_qbz5n2kfra8p0\\localcache\\local-packages\\python310\\site-packages (from dtale) (3.1.2)\n",
      "Requirement already satisfied: xarray in c:\\users\\asus\\appdata\\local\\packages\\pythonsoftwarefoundation.python.3.10_qbz5n2kfra8p0\\localcache\\local-packages\\python310\\site-packages (from dtale) (2023.12.0)\n",
      "Requirement already satisfied: et-xmlfile in c:\\users\\asus\\appdata\\local\\packages\\pythonsoftwarefoundation.python.3.10_qbz5n2kfra8p0\\localcache\\local-packages\\python310\\site-packages (from dtale) (1.1.0)\n",
      "Requirement already satisfied: plotly in c:\\users\\asus\\appdata\\local\\packages\\pythonsoftwarefoundation.python.3.10_qbz5n2kfra8p0\\localcache\\local-packages\\python310\\site-packages (from dtale) (5.18.0)\n",
      "Requirement already satisfied: Flask<2.3 in c:\\users\\asus\\appdata\\local\\packages\\pythonsoftwarefoundation.python.3.10_qbz5n2kfra8p0\\localcache\\local-packages\\python310\\site-packages (from dtale) (2.2.5)\n",
      "Requirement already satisfied: itsdangerous in c:\\users\\asus\\appdata\\local\\packages\\pythonsoftwarefoundation.python.3.10_qbz5n2kfra8p0\\localcache\\local-packages\\python310\\site-packages (from dtale) (2.1.2)\n",
      "Requirement already satisfied: requests in c:\\users\\asus\\appdata\\local\\packages\\pythonsoftwarefoundation.python.3.10_qbz5n2kfra8p0\\localcache\\local-packages\\python310\\site-packages (from dtale) (2.31.0)\n",
      "Requirement already satisfied: contourpy in c:\\users\\asus\\appdata\\local\\packages\\pythonsoftwarefoundation.python.3.10_qbz5n2kfra8p0\\localcache\\local-packages\\python310\\site-packages (from dtale) (1.1.1)\n",
      "Requirement already satisfied: matplotlib in c:\\users\\asus\\appdata\\local\\packages\\pythonsoftwarefoundation.python.3.10_qbz5n2kfra8p0\\localcache\\local-packages\\python310\\site-packages (from dtale) (3.8.0)\n",
      "Requirement already satisfied: scipy in c:\\users\\asus\\appdata\\local\\packages\\pythonsoftwarefoundation.python.3.10_qbz5n2kfra8p0\\localcache\\local-packages\\python310\\site-packages (from dtale) (1.11.3)\n",
      "Requirement already satisfied: dash-html-components==2.0.0 in c:\\users\\asus\\appdata\\local\\packages\\pythonsoftwarefoundation.python.3.10_qbz5n2kfra8p0\\localcache\\local-packages\\python310\\site-packages (from dash->dtale) (2.0.0)\n",
      "Requirement already satisfied: dash-core-components==2.0.0 in c:\\users\\asus\\appdata\\local\\packages\\pythonsoftwarefoundation.python.3.10_qbz5n2kfra8p0\\localcache\\local-packages\\python310\\site-packages (from dash->dtale) (2.0.0)\n",
      "Requirement already satisfied: dash-table==5.0.0 in c:\\users\\asus\\appdata\\local\\packages\\pythonsoftwarefoundation.python.3.10_qbz5n2kfra8p0\\localcache\\local-packages\\python310\\site-packages (from dash->dtale) (5.0.0)\n",
      "Requirement already satisfied: typing-extensions>=4.1.1 in c:\\users\\asus\\appdata\\local\\packages\\pythonsoftwarefoundation.python.3.10_qbz5n2kfra8p0\\localcache\\local-packages\\python310\\site-packages (from dash->dtale) (4.8.0)\n",
      "Requirement already satisfied: retrying in c:\\users\\asus\\appdata\\local\\packages\\pythonsoftwarefoundation.python.3.10_qbz5n2kfra8p0\\localcache\\local-packages\\python310\\site-packages (from dash->dtale) (1.3.4)\n",
      "Requirement already satisfied: ansi2html in c:\\users\\asus\\appdata\\local\\packages\\pythonsoftwarefoundation.python.3.10_qbz5n2kfra8p0\\localcache\\local-packages\\python310\\site-packages (from dash->dtale) (1.8.0)\n",
      "Requirement already satisfied: nest-asyncio in c:\\users\\asus\\appdata\\local\\packages\\pythonsoftwarefoundation.python.3.10_qbz5n2kfra8p0\\localcache\\local-packages\\python310\\site-packages (from dash->dtale) (1.5.8)\n",
      "Requirement already satisfied: setuptools in c:\\program files\\windowsapps\\pythonsoftwarefoundation.python.3.10_3.10.3056.0_x64__qbz5n2kfra8p0\\lib\\site-packages (from dash->dtale) (65.5.0)\n",
      "Requirement already satisfied: importlib-metadata in c:\\users\\asus\\appdata\\local\\packages\\pythonsoftwarefoundation.python.3.10_qbz5n2kfra8p0\\localcache\\local-packages\\python310\\site-packages (from dash->dtale) (7.0.0)\n",
      "Requirement already satisfied: Jinja2>=3.0 in c:\\users\\asus\\appdata\\local\\packages\\pythonsoftwarefoundation.python.3.10_qbz5n2kfra8p0\\localcache\\local-packages\\python310\\site-packages (from Flask<2.3->dtale) (3.1.2)\n",
      "Requirement already satisfied: click>=8.0 in c:\\users\\asus\\appdata\\local\\packages\\pythonsoftwarefoundation.python.3.10_qbz5n2kfra8p0\\localcache\\local-packages\\python310\\site-packages (from Flask<2.3->dtale) (8.1.7)\n",
      "Requirement already satisfied: tenacity>=6.2.0 in c:\\users\\asus\\appdata\\local\\packages\\pythonsoftwarefoundation.python.3.10_qbz5n2kfra8p0\\localcache\\local-packages\\python310\\site-packages (from plotly->dtale) (8.2.3)\n",
      "Requirement already satisfied: packaging in c:\\users\\asus\\appdata\\local\\packages\\pythonsoftwarefoundation.python.3.10_qbz5n2kfra8p0\\localcache\\local-packages\\python310\\site-packages (from plotly->dtale) (23.2)\n",
      "Requirement already satisfied: MarkupSafe>=2.1.1 in c:\\users\\asus\\appdata\\local\\packages\\pythonsoftwarefoundation.python.3.10_qbz5n2kfra8p0\\localcache\\local-packages\\python310\\site-packages (from werkzeug->dtale) (2.1.3)\n",
      "Requirement already satisfied: soupsieve>1.2 in c:\\users\\asus\\appdata\\local\\packages\\pythonsoftwarefoundation.python.3.10_qbz5n2kfra8p0\\localcache\\local-packages\\python310\\site-packages (from beautifulsoup4->dtale) (2.5)\n",
      "Requirement already satisfied: brotli in c:\\users\\asus\\appdata\\local\\packages\\pythonsoftwarefoundation.python.3.10_qbz5n2kfra8p0\\localcache\\local-packages\\python310\\site-packages (from Flask-Compress->dtale) (1.1.0)\n",
      "Requirement already satisfied: fonttools>=4.22.0 in c:\\users\\asus\\appdata\\local\\packages\\pythonsoftwarefoundation.python.3.10_qbz5n2kfra8p0\\localcache\\local-packages\\python310\\site-packages (from matplotlib->dtale) (4.43.1)\n",
      "Requirement already satisfied: kiwisolver>=1.0.1 in c:\\users\\asus\\appdata\\local\\packages\\pythonsoftwarefoundation.python.3.10_qbz5n2kfra8p0\\localcache\\local-packages\\python310\\site-packages (from matplotlib->dtale) (1.4.5)\n",
      "Requirement already satisfied: pillow>=6.2.0 in c:\\users\\asus\\appdata\\local\\packages\\pythonsoftwarefoundation.python.3.10_qbz5n2kfra8p0\\localcache\\local-packages\\python310\\site-packages (from matplotlib->dtale) (10.0.1)\n",
      "Requirement already satisfied: pyparsing>=2.3.1 in c:\\users\\asus\\appdata\\local\\packages\\pythonsoftwarefoundation.python.3.10_qbz5n2kfra8p0\\localcache\\local-packages\\python310\\site-packages (from matplotlib->dtale) (3.1.1)\n",
      "Requirement already satisfied: python-dateutil>=2.7 in c:\\users\\asus\\appdata\\local\\packages\\pythonsoftwarefoundation.python.3.10_qbz5n2kfra8p0\\localcache\\local-packages\\python310\\site-packages (from matplotlib->dtale) (2.8.2)\n",
      "Requirement already satisfied: pytz>=2020.1 in c:\\users\\asus\\appdata\\local\\packages\\pythonsoftwarefoundation.python.3.10_qbz5n2kfra8p0\\localcache\\local-packages\\python310\\site-packages (from pandas->dtale) (2023.3.post1)\n",
      "Requirement already satisfied: tzdata>=2022.1 in c:\\users\\asus\\appdata\\local\\packages\\pythonsoftwarefoundation.python.3.10_qbz5n2kfra8p0\\localcache\\local-packages\\python310\\site-packages (from pandas->dtale) (2023.3)\n",
      "Requirement already satisfied: charset-normalizer<4,>=2 in c:\\users\\asus\\appdata\\local\\packages\\pythonsoftwarefoundation.python.3.10_qbz5n2kfra8p0\\localcache\\local-packages\\python310\\site-packages (from requests->dtale) (3.3.0)\n",
      "Requirement already satisfied: idna<4,>=2.5 in c:\\users\\asus\\appdata\\local\\packages\\pythonsoftwarefoundation.python.3.10_qbz5n2kfra8p0\\localcache\\local-packages\\python310\\site-packages (from requests->dtale) (3.4)\n",
      "Requirement already satisfied: urllib3<3,>=1.21.1 in c:\\users\\asus\\appdata\\local\\packages\\pythonsoftwarefoundation.python.3.10_qbz5n2kfra8p0\\localcache\\local-packages\\python310\\site-packages (from requests->dtale) (2.0.7)\n",
      "Requirement already satisfied: joblib>=1.1.1 in c:\\users\\asus\\appdata\\local\\packages\\pythonsoftwarefoundation.python.3.10_qbz5n2kfra8p0\\localcache\\local-packages\\python310\\site-packages (from scikit-learn->dtale) (1.3.2)\n",
      "Requirement already satisfied: threadpoolctl>=2.0.0 in c:\\users\\asus\\appdata\\local\\packages\\pythonsoftwarefoundation.python.3.10_qbz5n2kfra8p0\\localcache\\local-packages\\python310\\site-packages (from scikit-learn->dtale) (3.2.0)\n",
      "Requirement already satisfied: patsy>=0.5.2 in c:\\users\\asus\\appdata\\local\\packages\\pythonsoftwarefoundation.python.3.10_qbz5n2kfra8p0\\localcache\\local-packages\\python310\\site-packages (from statsmodels->dtale) (0.5.3)\n",
      "Requirement already satisfied: colorama in c:\\users\\asus\\appdata\\local\\packages\\pythonsoftwarefoundation.python.3.10_qbz5n2kfra8p0\\localcache\\local-packages\\python310\\site-packages (from click>=8.0->Flask<2.3->dtale) (0.4.6)\n",
      "Requirement already satisfied: zipp>=0.5 in c:\\users\\asus\\appdata\\local\\packages\\pythonsoftwarefoundation.python.3.10_qbz5n2kfra8p0\\localcache\\local-packages\\python310\\site-packages (from importlib-metadata->dash->dtale) (3.17.0)\n"
     ]
    },
    {
     "name": "stderr",
     "output_type": "stream",
     "text": [
      "\n",
      "[notice] A new release of pip is available: 23.3.1 -> 23.3.2\n",
      "[notice] To update, run: C:\\Users\\ASUS\\AppData\\Local\\Microsoft\\WindowsApps\\PythonSoftwareFoundation.Python.3.10_qbz5n2kfra8p0\\python.exe -m pip install --upgrade pip\n"
     ]
    }
   ],
   "source": [
    "pip install dtale"
   ]
  },
  {
   "cell_type": "code",
   "execution_count": 77,
   "metadata": {},
   "outputs": [
    {
     "name": "stderr",
     "output_type": "stream",
     "text": [
      "Downloading...\n",
      "From: https://drive.google.com/uc?id=13sS6oB9KWJuF3wS36yiuHAAVpcasztUE\n",
      "To: c:\\Users\\ASUS\\Desktop\\PI_ML_OPS\\DATASET  Y EDA PROYECTO INDIVIDUAL\\steam_games.json.gz\n",
      "100%|██████████| 2.65M/2.65M [00:01<00:00, 2.38MB/s]\n"
     ]
    },
    {
     "name": "stdout",
     "output_type": "stream",
     "text": [
      "Número de filas y columnas en el DataFrame: (120445, 13)\n",
      "Primeras 5 filas del DataFrame:\n",
      "  publisher genres app_name title  url release_date tags reviews_url specs  \\\n",
      "0       NaN    NaN      NaN   NaN  NaN          NaN  NaN         NaN   NaN   \n",
      "1       NaN    NaN      NaN   NaN  NaN          NaN  NaN         NaN   NaN   \n",
      "2       NaN    NaN      NaN   NaN  NaN          NaN  NaN         NaN   NaN   \n",
      "3       NaN    NaN      NaN   NaN  NaN          NaN  NaN         NaN   NaN   \n",
      "4       NaN    NaN      NaN   NaN  NaN          NaN  NaN         NaN   NaN   \n",
      "\n",
      "  price early_access   id developer  \n",
      "0   NaN          NaN  NaN       NaN  \n",
      "1   NaN          NaN  NaN       NaN  \n",
      "2   NaN          NaN  NaN       NaN  \n",
      "3   NaN          NaN  NaN       NaN  \n",
      "4   NaN          NaN  NaN       NaN  \n"
     ]
    }
   ],
   "source": [
    "import gdown\n",
    "import pandas as pd\n",
    "import gzip\n",
    "import json\n",
    "import dtale\n",
    "\n",
    "# Ruta o  ID real del archivo en Google Drive\n",
    "file_id = \"13sS6oB9KWJuF3wS36yiuHAAVpcasztUE\"\n",
    "output_path = \"steam_games.json.gz\"\n",
    "gdown.download(f\"https://drive.google.com/uc?id={file_id}\", output_path, quiet=False)\n",
    "\n",
    "# Procesa el archivo JSON line-delimited\n",
    "json_data = []\n",
    "with gzip.open(\"steam_games.json.gz\", \"rb\") as f:\n",
    "    for line in f:\n",
    "        try:\n",
    "            # Carga cada línea como un objeto JSON independiente\n",
    "            game_data = json.loads(line)\n",
    "            json_data.append(game_data)\n",
    "        except json.JSONDecodeError:\n",
    "            print(\"Error al cargar una línea como JSON:\", line)\n",
    "\n",
    "# Ahora json_data contiene una lista de objetos JSON\n",
    "# Podemos trabajar con estos objetos JSON según nuestras necesidades.\n",
    "\n",
    "# Ejemplo: Convierte los datos en un DataFrame de pandas\n",
    "df = pd.DataFrame(json_data)\n",
    "\n",
    "# Realiza el análisis exploratorio de datos (EDA) en el DataFrame df.\n",
    "\n",
    "# Ejemplo de EDA simple:\n",
    "print(\"Número de filas y columnas en el DataFrame:\", df.shape)\n",
    "print(\"Primeras 5 filas del DataFrame:\")\n",
    "print(df.head())\n",
    "# Podemos realizar más análisis exploratorio según tus necesidades."
   ]
  },
  {
   "cell_type": "code",
   "execution_count": 78,
   "metadata": {},
   "outputs": [
    {
     "name": "stderr",
     "output_type": "stream",
     "text": [
      "Downloading...\n",
      "From: https://drive.google.com/uc?id=13sS6oB9KWJuF3wS36yiuHAAVpcasztUE\n",
      "To: c:\\Users\\ASUS\\Desktop\\PI_ML_OPS\\DATASET  Y EDA PROYECTO INDIVIDUAL\\steam_games.json.gz\n",
      "100%|██████████| 2.65M/2.65M [00:01<00:00, 2.60MB/s]\n"
     ]
    },
    {
     "data": {
      "text/plain": []
     },
     "execution_count": 78,
     "metadata": {},
     "output_type": "execute_result"
    }
   ],
   "source": [
    "import gdown\n",
    "import pandas as pd\n",
    "import gzip\n",
    "import json\n",
    "import dtale\n",
    "\n",
    "# Ruta o ID real del archivo en Google Drive\n",
    "file_id = \"13sS6oB9KWJuF3wS36yiuHAAVpcasztUE\"\n",
    "output_path = \"steam_games.json.gz\"\n",
    "gdown.download(f\"https://drive.google.com/uc?id={file_id}\", output_path, quiet=False)\n",
    "\n",
    "# Procesa el archivo JSON line-delimited\n",
    "json_data = []\n",
    "with gzip.open(\"steam_games.json.gz\", \"rb\") as f:\n",
    "    for line in f:\n",
    "        try:\n",
    "            # Cargar cada línea como un objeto JSON independiente\n",
    "            game_data = json.loads(line)\n",
    "            json_data.append(game_data)\n",
    "        except json.JSONDecodeError:\n",
    "            print(\"Error al cargar una línea como JSON:\", line)\n",
    "\n",
    "# Crear un DataFrame de Pandas a partir de los datos JSON\n",
    "df = pd.DataFrame(json_data)\n",
    "\n",
    "# Visualizamos el DataFrame en el navegador usando dtale\n",
    "dtale.show(df, open_browser=True)\n"
   ]
  },
  {
   "cell_type": "code",
   "execution_count": 75,
   "metadata": {},
   "outputs": [
    {
     "name": "stdout",
     "output_type": "stream",
     "text": [
      "Primeras 5 filas del DataFrame:\n",
      "  publisher genres app_name title  url release_date tags reviews_url specs  \\\n",
      "0       NaN    NaN      NaN   NaN  NaN          NaN  NaN         NaN   NaN   \n",
      "1       NaN    NaN      NaN   NaN  NaN          NaN  NaN         NaN   NaN   \n",
      "2       NaN    NaN      NaN   NaN  NaN          NaN  NaN         NaN   NaN   \n",
      "3       NaN    NaN      NaN   NaN  NaN          NaN  NaN         NaN   NaN   \n",
      "4       NaN    NaN      NaN   NaN  NaN          NaN  NaN         NaN   NaN   \n",
      "\n",
      "  price early_access   id developer  \n",
      "0   NaN          NaN  NaN       NaN  \n",
      "1   NaN          NaN  NaN       NaN  \n",
      "2   NaN          NaN  NaN       NaN  \n",
      "3   NaN          NaN  NaN       NaN  \n",
      "4   NaN          NaN  NaN       NaN  \n",
      "\n",
      "Información general del DataFrame:\n",
      "<class 'pandas.core.frame.DataFrame'>\n",
      "RangeIndex: 120445 entries, 0 to 120444\n",
      "Data columns (total 13 columns):\n",
      " #   Column        Non-Null Count  Dtype \n",
      "---  ------        --------------  ----- \n",
      " 0   publisher     24083 non-null  object\n",
      " 1   genres        28852 non-null  object\n",
      " 2   app_name      32133 non-null  object\n",
      " 3   title         30085 non-null  object\n",
      " 4   url           32135 non-null  object\n",
      " 5   release_date  30068 non-null  object\n",
      " 6   tags          31972 non-null  object\n",
      " 7   reviews_url   32133 non-null  object\n",
      " 8   specs         31465 non-null  object\n",
      " 9   price         30758 non-null  object\n",
      " 10  early_access  32135 non-null  object\n",
      " 11  id            32133 non-null  object\n",
      " 12  developer     28836 non-null  object\n",
      "dtypes: object(13)\n",
      "memory usage: 11.9+ MB\n",
      "None\n",
      "\n",
      "Estadísticas descriptivas del DataFrame:\n",
      "       publisher    genres    app_name       title  \\\n",
      "count      24083     28852       32133       30085   \n",
      "unique      8239       883       32094       30054   \n",
      "top      Ubisoft  [Action]  Soundtrack  Soundtrack   \n",
      "freq         385      1880           3           3   \n",
      "\n",
      "                                                      url release_date  \\\n",
      "count                                               32135        30068   \n",
      "unique                                              32135         3582   \n",
      "top     http://store.steampowered.com/app/761140/Lost_...   2012-10-16   \n",
      "freq                                                    1          100   \n",
      "\n",
      "                        tags  \\\n",
      "count                  31972   \n",
      "unique                 15395   \n",
      "top     [Casual, Simulation]   \n",
      "freq                    1292   \n",
      "\n",
      "                                              reviews_url            specs  \\\n",
      "count                                               32133            31465   \n",
      "unique                                              32132             4649   \n",
      "top     http://steamcommunity.com/app/612880/reviews/?...  [Single-player]   \n",
      "freq                                                    2             2794   \n",
      "\n",
      "           price early_access      id                developer  \n",
      "count   30758.00        32135   32133                    28836  \n",
      "unique    162.00            2   32132                    10992  \n",
      "top         4.99        False  612880  Ubisoft - San Francisco  \n",
      "freq     4278.00        30188       2                     1259  \n"
     ]
    }
   ],
   "source": [
    "import pandas as pd\n",
    "\n",
    "# Como ya tenemos el DataFrame df con los datos\n",
    "\n",
    "# 1. Nos mostrara las primeras filas del DataFrame\n",
    "print(\"Primeras 5 filas del DataFrame:\")\n",
    "print(df.head())\n",
    "\n",
    "# 2. Obtendremos información general sobre el DataFrame\n",
    "print(\"\\nInformación general del DataFrame:\")\n",
    "print(df.info())\n",
    "\n",
    "# 3. Podemos obtener una estadística descriptiva\n",
    "print(\"\\nEstadísticas descriptivas del DataFrame:\")\n",
    "print(df.describe())\n"
   ]
  },
  {
   "cell_type": "code",
   "execution_count": 76,
   "metadata": {},
   "outputs": [
    {
     "name": "stdout",
     "output_type": "stream",
     "text": [
      "       publisher    genres    app_name       title  \\\n",
      "count      24083     28852       32133       30085   \n",
      "unique      8239       883       32094       30054   \n",
      "top      Ubisoft  [Action]  Soundtrack  Soundtrack   \n",
      "freq         385      1880           3           3   \n",
      "\n",
      "                                                      url release_date  \\\n",
      "count                                               32135        30068   \n",
      "unique                                              32135         3582   \n",
      "top     http://store.steampowered.com/app/761140/Lost_...   2012-10-16   \n",
      "freq                                                    1          100   \n",
      "\n",
      "                        tags  \\\n",
      "count                  31972   \n",
      "unique                 15395   \n",
      "top     [Casual, Simulation]   \n",
      "freq                    1292   \n",
      "\n",
      "                                              reviews_url            specs  \\\n",
      "count                                               32133            31465   \n",
      "unique                                              32132             4649   \n",
      "top     http://steamcommunity.com/app/612880/reviews/?...  [Single-player]   \n",
      "freq                                                    2             2794   \n",
      "\n",
      "           price early_access      id                developer  \n",
      "count   30758.00        32135   32133                    28836  \n",
      "unique    162.00            2   32132                    10992  \n",
      "top         4.99        False  612880  Ubisoft - San Francisco  \n",
      "freq     4278.00        30188       2                     1259  \n"
     ]
    }
   ],
   "source": [
    "import pandas as pd\n",
    "\n",
    "# Con el siguiente codigo, Obtendremos una estadística descriptiva, pero, en este caso, para todas las columnas\n",
    "descriptivas = df.describe(include='all')\n",
    "\n",
    "# Muestra la estadística descriptiva\n",
    "print(descriptivas)\n"
   ]
  },
  {
   "cell_type": "code",
   "execution_count": 8,
   "metadata": {},
   "outputs": [
    {
     "name": "stdout",
     "output_type": "stream",
     "text": [
      "Requirement already satisfied: typing-extensions in c:\\users\\asus\\appdata\\local\\packages\\pythonsoftwarefoundation.python.3.10_qbz5n2kfra8p0\\localcache\\local-packages\\python310\\site-packages (4.8.0)\n",
      "Collecting typing-extensions\n",
      "  Using cached typing_extensions-4.9.0-py3-none-any.whl.metadata (3.0 kB)\n",
      "Using cached typing_extensions-4.9.0-py3-none-any.whl (32 kB)\n",
      "Installing collected packages: typing-extensions\n",
      "  Attempting uninstall: typing-extensions\n",
      "    Found existing installation: typing_extensions 4.8.0\n",
      "    Uninstalling typing_extensions-4.8.0:\n",
      "      Successfully uninstalled typing_extensions-4.8.0\n",
      "Successfully installed typing-extensions-4.9.0\n",
      "Note: you may need to restart the kernel to use updated packages.\n"
     ]
    },
    {
     "name": "stderr",
     "output_type": "stream",
     "text": [
      "ERROR: pip's dependency resolver does not currently take into account all the packages that are installed. This behaviour is the source of the following dependency conflicts.\n",
      "ydata-profiling 4.6.3 requires visions[type_image_path]==0.7.5, but you have visions 0.7.1 which is incompatible.\n",
      "\n",
      "[notice] A new release of pip is available: 23.3.1 -> 23.3.2\n",
      "[notice] To update, run: C:\\Users\\ASUS\\AppData\\Local\\Microsoft\\WindowsApps\\PythonSoftwareFoundation.Python.3.10_qbz5n2kfra8p0\\python.exe -m pip install --upgrade pip\n"
     ]
    }
   ],
   "source": [
    "pip install --upgrade typing-extensions\n"
   ]
  },
  {
   "cell_type": "code",
   "execution_count": 61,
   "metadata": {},
   "outputs": [
    {
     "data": {
      "application/vnd.jupyter.widget-view+json": {
       "model_id": "3f376e5461a343cc8d48c5b3240646fe",
       "version_major": 2,
       "version_minor": 0
      },
      "text/plain": [
       "Summarize dataset:   0%|          | 0/5 [00:00<?, ?it/s]"
      ]
     },
     "metadata": {},
     "output_type": "display_data"
    },
    {
     "name": "stderr",
     "output_type": "stream",
     "text": [
      "C:\\Users\\ASUS\\AppData\\Local\\Packages\\PythonSoftwareFoundation.Python.3.10_qbz5n2kfra8p0\\LocalCache\\local-packages\\Python310\\site-packages\\ydata_profiling\\model\\typeset.py:208: FutureWarning:\n",
      "\n",
      "is_categorical_dtype is deprecated and will be removed in a future version. Use isinstance(dtype, CategoricalDtype) instead\n",
      "\n",
      "C:\\Users\\ASUS\\AppData\\Local\\Packages\\PythonSoftwareFoundation.Python.3.10_qbz5n2kfra8p0\\LocalCache\\local-packages\\Python310\\site-packages\\ydata_profiling\\model\\typeset.py:125: FutureWarning:\n",
      "\n",
      "is_categorical_dtype is deprecated and will be removed in a future version. Use isinstance(dtype, CategoricalDtype) instead\n",
      "\n",
      "C:\\Users\\ASUS\\AppData\\Local\\Packages\\PythonSoftwareFoundation.Python.3.10_qbz5n2kfra8p0\\LocalCache\\local-packages\\Python310\\site-packages\\ydata_profiling\\model\\typeset.py:125: FutureWarning:\n",
      "\n",
      "is_categorical_dtype is deprecated and will be removed in a future version. Use isinstance(dtype, CategoricalDtype) instead\n",
      "\n",
      "C:\\Users\\ASUS\\AppData\\Local\\Packages\\PythonSoftwareFoundation.Python.3.10_qbz5n2kfra8p0\\LocalCache\\local-packages\\Python310\\site-packages\\ydata_profiling\\model\\typeset.py:208: FutureWarning:\n",
      "\n",
      "is_categorical_dtype is deprecated and will be removed in a future version. Use isinstance(dtype, CategoricalDtype) instead\n",
      "\n",
      "C:\\Users\\ASUS\\AppData\\Local\\Packages\\PythonSoftwareFoundation.Python.3.10_qbz5n2kfra8p0\\LocalCache\\local-packages\\Python310\\site-packages\\ydata_profiling\\model\\typeset_relations.py:34: FutureWarning:\n",
      "\n",
      "is_categorical_dtype is deprecated and will be removed in a future version. Use isinstance(dtype, CategoricalDtype) instead\n",
      "\n",
      "C:\\Users\\ASUS\\AppData\\Local\\Packages\\PythonSoftwareFoundation.Python.3.10_qbz5n2kfra8p0\\LocalCache\\local-packages\\Python310\\site-packages\\ydata_profiling\\model\\typeset.py:125: FutureWarning:\n",
      "\n",
      "is_categorical_dtype is deprecated and will be removed in a future version. Use isinstance(dtype, CategoricalDtype) instead\n",
      "\n",
      "C:\\Users\\ASUS\\AppData\\Local\\Packages\\PythonSoftwareFoundation.Python.3.10_qbz5n2kfra8p0\\LocalCache\\local-packages\\Python310\\site-packages\\ydata_profiling\\model\\typeset.py:125: FutureWarning:\n",
      "\n",
      "is_categorical_dtype is deprecated and will be removed in a future version. Use isinstance(dtype, CategoricalDtype) instead\n",
      "\n",
      "C:\\Users\\ASUS\\AppData\\Local\\Packages\\PythonSoftwareFoundation.Python.3.10_qbz5n2kfra8p0\\LocalCache\\local-packages\\Python310\\site-packages\\ydata_profiling\\model\\typeset_relations.py:34: FutureWarning:\n",
      "\n",
      "is_categorical_dtype is deprecated and will be removed in a future version. Use isinstance(dtype, CategoricalDtype) instead\n",
      "\n",
      "C:\\Users\\ASUS\\AppData\\Local\\Packages\\PythonSoftwareFoundation.Python.3.10_qbz5n2kfra8p0\\LocalCache\\local-packages\\Python310\\site-packages\\ydata_profiling\\model\\typeset.py:208: FutureWarning:\n",
      "\n",
      "is_categorical_dtype is deprecated and will be removed in a future version. Use isinstance(dtype, CategoricalDtype) instead\n",
      "\n",
      "C:\\Users\\ASUS\\AppData\\Local\\Packages\\PythonSoftwareFoundation.Python.3.10_qbz5n2kfra8p0\\LocalCache\\local-packages\\Python310\\site-packages\\ydata_profiling\\model\\typeset_relations.py:34: FutureWarning:\n",
      "\n",
      "is_categorical_dtype is deprecated and will be removed in a future version. Use isinstance(dtype, CategoricalDtype) instead\n",
      "\n",
      "C:\\Users\\ASUS\\AppData\\Local\\Packages\\PythonSoftwareFoundation.Python.3.10_qbz5n2kfra8p0\\LocalCache\\local-packages\\Python310\\site-packages\\ydata_profiling\\model\\typeset.py:125: FutureWarning:\n",
      "\n",
      "is_categorical_dtype is deprecated and will be removed in a future version. Use isinstance(dtype, CategoricalDtype) instead\n",
      "\n",
      "C:\\Users\\ASUS\\AppData\\Local\\Packages\\PythonSoftwareFoundation.Python.3.10_qbz5n2kfra8p0\\LocalCache\\local-packages\\Python310\\site-packages\\ydata_profiling\\model\\typeset.py:208: FutureWarning:\n",
      "\n",
      "is_categorical_dtype is deprecated and will be removed in a future version. Use isinstance(dtype, CategoricalDtype) instead\n",
      "\n",
      "C:\\Users\\ASUS\\AppData\\Local\\Packages\\PythonSoftwareFoundation.Python.3.10_qbz5n2kfra8p0\\LocalCache\\local-packages\\Python310\\site-packages\\ydata_profiling\\model\\typeset.py:125: FutureWarning:\n",
      "\n",
      "is_categorical_dtype is deprecated and will be removed in a future version. Use isinstance(dtype, CategoricalDtype) instead\n",
      "\n",
      "C:\\Users\\ASUS\\AppData\\Local\\Packages\\PythonSoftwareFoundation.Python.3.10_qbz5n2kfra8p0\\LocalCache\\local-packages\\Python310\\site-packages\\ydata_profiling\\model\\typeset.py:125: FutureWarning:\n",
      "\n",
      "is_categorical_dtype is deprecated and will be removed in a future version. Use isinstance(dtype, CategoricalDtype) instead\n",
      "\n",
      "C:\\Users\\ASUS\\AppData\\Local\\Packages\\PythonSoftwareFoundation.Python.3.10_qbz5n2kfra8p0\\LocalCache\\local-packages\\Python310\\site-packages\\ydata_profiling\\model\\typeset_relations.py:34: FutureWarning:\n",
      "\n",
      "is_categorical_dtype is deprecated and will be removed in a future version. Use isinstance(dtype, CategoricalDtype) instead\n",
      "\n",
      "C:\\Users\\ASUS\\AppData\\Local\\Packages\\PythonSoftwareFoundation.Python.3.10_qbz5n2kfra8p0\\LocalCache\\local-packages\\Python310\\site-packages\\ydata_profiling\\model\\typeset.py:125: FutureWarning:\n",
      "\n",
      "is_categorical_dtype is deprecated and will be removed in a future version. Use isinstance(dtype, CategoricalDtype) instead\n",
      "\n",
      "C:\\Users\\ASUS\\AppData\\Local\\Packages\\PythonSoftwareFoundation.Python.3.10_qbz5n2kfra8p0\\LocalCache\\local-packages\\Python310\\site-packages\\ydata_profiling\\model\\typeset_relations.py:34: FutureWarning:\n",
      "\n",
      "is_categorical_dtype is deprecated and will be removed in a future version. Use isinstance(dtype, CategoricalDtype) instead\n",
      "\n",
      "C:\\Users\\ASUS\\AppData\\Local\\Packages\\PythonSoftwareFoundation.Python.3.10_qbz5n2kfra8p0\\LocalCache\\local-packages\\Python310\\site-packages\\ydata_profiling\\model\\typeset.py:208: FutureWarning:\n",
      "\n",
      "is_categorical_dtype is deprecated and will be removed in a future version. Use isinstance(dtype, CategoricalDtype) instead\n",
      "\n",
      "C:\\Users\\ASUS\\AppData\\Local\\Packages\\PythonSoftwareFoundation.Python.3.10_qbz5n2kfra8p0\\LocalCache\\local-packages\\Python310\\site-packages\\ydata_profiling\\model\\typeset.py:125: FutureWarning:\n",
      "\n",
      "is_categorical_dtype is deprecated and will be removed in a future version. Use isinstance(dtype, CategoricalDtype) instead\n",
      "\n",
      "C:\\Users\\ASUS\\AppData\\Local\\Packages\\PythonSoftwareFoundation.Python.3.10_qbz5n2kfra8p0\\LocalCache\\local-packages\\Python310\\site-packages\\ydata_profiling\\model\\typeset_relations.py:34: FutureWarning:\n",
      "\n",
      "is_categorical_dtype is deprecated and will be removed in a future version. Use isinstance(dtype, CategoricalDtype) instead\n",
      "\n",
      "C:\\Users\\ASUS\\AppData\\Local\\Packages\\PythonSoftwareFoundation.Python.3.10_qbz5n2kfra8p0\\LocalCache\\local-packages\\Python310\\site-packages\\ydata_profiling\\model\\typeset.py:208: FutureWarning:\n",
      "\n",
      "is_categorical_dtype is deprecated and will be removed in a future version. Use isinstance(dtype, CategoricalDtype) instead\n",
      "\n",
      "C:\\Users\\ASUS\\AppData\\Local\\Packages\\PythonSoftwareFoundation.Python.3.10_qbz5n2kfra8p0\\LocalCache\\local-packages\\Python310\\site-packages\\ydata_profiling\\model\\typeset.py:125: FutureWarning:\n",
      "\n",
      "is_categorical_dtype is deprecated and will be removed in a future version. Use isinstance(dtype, CategoricalDtype) instead\n",
      "\n",
      "C:\\Users\\ASUS\\AppData\\Local\\Packages\\PythonSoftwareFoundation.Python.3.10_qbz5n2kfra8p0\\LocalCache\\local-packages\\Python310\\site-packages\\ydata_profiling\\model\\typeset_relations.py:34: FutureWarning:\n",
      "\n",
      "is_categorical_dtype is deprecated and will be removed in a future version. Use isinstance(dtype, CategoricalDtype) instead\n",
      "\n",
      "C:\\Users\\ASUS\\AppData\\Local\\Packages\\PythonSoftwareFoundation.Python.3.10_qbz5n2kfra8p0\\LocalCache\\local-packages\\Python310\\site-packages\\ydata_profiling\\model\\typeset.py:208: FutureWarning:\n",
      "\n",
      "is_categorical_dtype is deprecated and will be removed in a future version. Use isinstance(dtype, CategoricalDtype) instead\n",
      "\n",
      "C:\\Users\\ASUS\\AppData\\Local\\Packages\\PythonSoftwareFoundation.Python.3.10_qbz5n2kfra8p0\\LocalCache\\local-packages\\Python310\\site-packages\\ydata_profiling\\model\\typeset.py:208: FutureWarning:\n",
      "\n",
      "is_categorical_dtype is deprecated and will be removed in a future version. Use isinstance(dtype, CategoricalDtype) instead\n",
      "\n",
      "C:\\Users\\ASUS\\AppData\\Local\\Packages\\PythonSoftwareFoundation.Python.3.10_qbz5n2kfra8p0\\LocalCache\\local-packages\\Python310\\site-packages\\ydata_profiling\\model\\typeset.py:125: FutureWarning:\n",
      "\n",
      "is_categorical_dtype is deprecated and will be removed in a future version. Use isinstance(dtype, CategoricalDtype) instead\n",
      "\n",
      "C:\\Users\\ASUS\\AppData\\Local\\Packages\\PythonSoftwareFoundation.Python.3.10_qbz5n2kfra8p0\\LocalCache\\local-packages\\Python310\\site-packages\\ydata_profiling\\model\\typeset.py:208: FutureWarning:\n",
      "\n",
      "is_categorical_dtype is deprecated and will be removed in a future version. Use isinstance(dtype, CategoricalDtype) instead\n",
      "\n",
      "C:\\Users\\ASUS\\AppData\\Local\\Packages\\PythonSoftwareFoundation.Python.3.10_qbz5n2kfra8p0\\LocalCache\\local-packages\\Python310\\site-packages\\ydata_profiling\\model\\typeset_relations.py:34: FutureWarning:\n",
      "\n",
      "is_categorical_dtype is deprecated and will be removed in a future version. Use isinstance(dtype, CategoricalDtype) instead\n",
      "\n",
      "C:\\Users\\ASUS\\AppData\\Local\\Packages\\PythonSoftwareFoundation.Python.3.10_qbz5n2kfra8p0\\LocalCache\\local-packages\\Python310\\site-packages\\ydata_profiling\\model\\typeset.py:125: FutureWarning:\n",
      "\n",
      "is_categorical_dtype is deprecated and will be removed in a future version. Use isinstance(dtype, CategoricalDtype) instead\n",
      "\n",
      "C:\\Users\\ASUS\\AppData\\Local\\Packages\\PythonSoftwareFoundation.Python.3.10_qbz5n2kfra8p0\\LocalCache\\local-packages\\Python310\\site-packages\\ydata_profiling\\model\\typeset.py:208: FutureWarning:\n",
      "\n",
      "is_categorical_dtype is deprecated and will be removed in a future version. Use isinstance(dtype, CategoricalDtype) instead\n",
      "\n",
      "C:\\Users\\ASUS\\AppData\\Local\\Packages\\PythonSoftwareFoundation.Python.3.10_qbz5n2kfra8p0\\LocalCache\\local-packages\\Python310\\site-packages\\ydata_profiling\\model\\typeset.py:125: FutureWarning:\n",
      "\n",
      "is_categorical_dtype is deprecated and will be removed in a future version. Use isinstance(dtype, CategoricalDtype) instead\n",
      "\n",
      "C:\\Users\\ASUS\\AppData\\Local\\Packages\\PythonSoftwareFoundation.Python.3.10_qbz5n2kfra8p0\\LocalCache\\local-packages\\Python310\\site-packages\\ydata_profiling\\model\\typeset_relations.py:34: FutureWarning:\n",
      "\n",
      "is_categorical_dtype is deprecated and will be removed in a future version. Use isinstance(dtype, CategoricalDtype) instead\n",
      "\n",
      "C:\\Users\\ASUS\\AppData\\Local\\Packages\\PythonSoftwareFoundation.Python.3.10_qbz5n2kfra8p0\\LocalCache\\local-packages\\Python310\\site-packages\\ydata_profiling\\model\\typeset.py:208: FutureWarning:\n",
      "\n",
      "is_categorical_dtype is deprecated and will be removed in a future version. Use isinstance(dtype, CategoricalDtype) instead\n",
      "\n",
      "C:\\Users\\ASUS\\AppData\\Local\\Packages\\PythonSoftwareFoundation.Python.3.10_qbz5n2kfra8p0\\LocalCache\\local-packages\\Python310\\site-packages\\ydata_profiling\\model\\typeset.py:125: FutureWarning:\n",
      "\n",
      "is_categorical_dtype is deprecated and will be removed in a future version. Use isinstance(dtype, CategoricalDtype) instead\n",
      "\n",
      "C:\\Users\\ASUS\\AppData\\Local\\Packages\\PythonSoftwareFoundation.Python.3.10_qbz5n2kfra8p0\\LocalCache\\local-packages\\Python310\\site-packages\\ydata_profiling\\model\\typeset.py:125: FutureWarning:\n",
      "\n",
      "is_categorical_dtype is deprecated and will be removed in a future version. Use isinstance(dtype, CategoricalDtype) instead\n",
      "\n",
      "C:\\Users\\ASUS\\AppData\\Local\\Packages\\PythonSoftwareFoundation.Python.3.10_qbz5n2kfra8p0\\LocalCache\\local-packages\\Python310\\site-packages\\ydata_profiling\\model\\typeset.py:208: FutureWarning:\n",
      "\n",
      "is_categorical_dtype is deprecated and will be removed in a future version. Use isinstance(dtype, CategoricalDtype) instead\n",
      "\n",
      "C:\\Users\\ASUS\\AppData\\Local\\Packages\\PythonSoftwareFoundation.Python.3.10_qbz5n2kfra8p0\\LocalCache\\local-packages\\Python310\\site-packages\\ydata_profiling\\model\\typeset.py:208: FutureWarning:\n",
      "\n",
      "is_categorical_dtype is deprecated and will be removed in a future version. Use isinstance(dtype, CategoricalDtype) instead\n",
      "\n",
      "C:\\Users\\ASUS\\AppData\\Local\\Packages\\PythonSoftwareFoundation.Python.3.10_qbz5n2kfra8p0\\LocalCache\\local-packages\\Python310\\site-packages\\ydata_profiling\\model\\typeset.py:125: FutureWarning:\n",
      "\n",
      "is_categorical_dtype is deprecated and will be removed in a future version. Use isinstance(dtype, CategoricalDtype) instead\n",
      "\n",
      "C:\\Users\\ASUS\\AppData\\Local\\Packages\\PythonSoftwareFoundation.Python.3.10_qbz5n2kfra8p0\\LocalCache\\local-packages\\Python310\\site-packages\\ydata_profiling\\model\\typeset.py:125: FutureWarning:\n",
      "\n",
      "is_categorical_dtype is deprecated and will be removed in a future version. Use isinstance(dtype, CategoricalDtype) instead\n",
      "\n",
      "C:\\Users\\ASUS\\AppData\\Local\\Packages\\PythonSoftwareFoundation.Python.3.10_qbz5n2kfra8p0\\LocalCache\\local-packages\\Python310\\site-packages\\ydata_profiling\\model\\typeset.py:208: FutureWarning:\n",
      "\n",
      "is_categorical_dtype is deprecated and will be removed in a future version. Use isinstance(dtype, CategoricalDtype) instead\n",
      "\n",
      "C:\\Users\\ASUS\\AppData\\Local\\Packages\\PythonSoftwareFoundation.Python.3.10_qbz5n2kfra8p0\\LocalCache\\local-packages\\Python310\\site-packages\\ydata_profiling\\model\\typeset_relations.py:34: FutureWarning:\n",
      "\n",
      "is_categorical_dtype is deprecated and will be removed in a future version. Use isinstance(dtype, CategoricalDtype) instead\n",
      "\n",
      "C:\\Users\\ASUS\\AppData\\Local\\Packages\\PythonSoftwareFoundation.Python.3.10_qbz5n2kfra8p0\\LocalCache\\local-packages\\Python310\\site-packages\\ydata_profiling\\model\\typeset.py:125: FutureWarning:\n",
      "\n",
      "is_categorical_dtype is deprecated and will be removed in a future version. Use isinstance(dtype, CategoricalDtype) instead\n",
      "\n",
      "C:\\Users\\ASUS\\AppData\\Local\\Packages\\PythonSoftwareFoundation.Python.3.10_qbz5n2kfra8p0\\LocalCache\\local-packages\\Python310\\site-packages\\ydata_profiling\\model\\typeset.py:208: FutureWarning:\n",
      "\n",
      "is_categorical_dtype is deprecated and will be removed in a future version. Use isinstance(dtype, CategoricalDtype) instead\n",
      "\n",
      "C:\\Users\\ASUS\\AppData\\Local\\Packages\\PythonSoftwareFoundation.Python.3.10_qbz5n2kfra8p0\\LocalCache\\local-packages\\Python310\\site-packages\\ydata_profiling\\model\\typeset.py:208: FutureWarning:\n",
      "\n",
      "is_categorical_dtype is deprecated and will be removed in a future version. Use isinstance(dtype, CategoricalDtype) instead\n",
      "\n",
      "C:\\Users\\ASUS\\AppData\\Local\\Packages\\PythonSoftwareFoundation.Python.3.10_qbz5n2kfra8p0\\LocalCache\\local-packages\\Python310\\site-packages\\ydata_profiling\\model\\typeset.py:208: FutureWarning:\n",
      "\n",
      "is_categorical_dtype is deprecated and will be removed in a future version. Use isinstance(dtype, CategoricalDtype) instead\n",
      "\n",
      "C:\\Users\\ASUS\\AppData\\Local\\Packages\\PythonSoftwareFoundation.Python.3.10_qbz5n2kfra8p0\\LocalCache\\local-packages\\Python310\\site-packages\\ydata_profiling\\model\\typeset.py:125: FutureWarning:\n",
      "\n",
      "is_categorical_dtype is deprecated and will be removed in a future version. Use isinstance(dtype, CategoricalDtype) instead\n",
      "\n",
      "C:\\Users\\ASUS\\AppData\\Local\\Packages\\PythonSoftwareFoundation.Python.3.10_qbz5n2kfra8p0\\LocalCache\\local-packages\\Python310\\site-packages\\ydata_profiling\\model\\typeset.py:208: FutureWarning:\n",
      "\n",
      "is_categorical_dtype is deprecated and will be removed in a future version. Use isinstance(dtype, CategoricalDtype) instead\n",
      "\n",
      "C:\\Users\\ASUS\\AppData\\Local\\Packages\\PythonSoftwareFoundation.Python.3.10_qbz5n2kfra8p0\\LocalCache\\local-packages\\Python310\\site-packages\\ydata_profiling\\model\\typeset.py:208: FutureWarning:\n",
      "\n",
      "is_categorical_dtype is deprecated and will be removed in a future version. Use isinstance(dtype, CategoricalDtype) instead\n",
      "\n",
      "C:\\Users\\ASUS\\AppData\\Local\\Packages\\PythonSoftwareFoundation.Python.3.10_qbz5n2kfra8p0\\LocalCache\\local-packages\\Python310\\site-packages\\ydata_profiling\\model\\typeset.py:125: FutureWarning:\n",
      "\n",
      "is_categorical_dtype is deprecated and will be removed in a future version. Use isinstance(dtype, CategoricalDtype) instead\n",
      "\n",
      "C:\\Users\\ASUS\\AppData\\Local\\Packages\\PythonSoftwareFoundation.Python.3.10_qbz5n2kfra8p0\\LocalCache\\local-packages\\Python310\\site-packages\\ydata_profiling\\model\\typeset_relations.py:34: FutureWarning:\n",
      "\n",
      "is_categorical_dtype is deprecated and will be removed in a future version. Use isinstance(dtype, CategoricalDtype) instead\n",
      "\n",
      "C:\\Users\\ASUS\\AppData\\Local\\Packages\\PythonSoftwareFoundation.Python.3.10_qbz5n2kfra8p0\\LocalCache\\local-packages\\Python310\\site-packages\\ydata_profiling\\model\\typeset.py:208: FutureWarning:\n",
      "\n",
      "is_categorical_dtype is deprecated and will be removed in a future version. Use isinstance(dtype, CategoricalDtype) instead\n",
      "\n",
      "C:\\Users\\ASUS\\AppData\\Local\\Packages\\PythonSoftwareFoundation.Python.3.10_qbz5n2kfra8p0\\LocalCache\\local-packages\\Python310\\site-packages\\ydata_profiling\\model\\typeset.py:125: FutureWarning:\n",
      "\n",
      "is_categorical_dtype is deprecated and will be removed in a future version. Use isinstance(dtype, CategoricalDtype) instead\n",
      "\n",
      "C:\\Users\\ASUS\\AppData\\Local\\Packages\\PythonSoftwareFoundation.Python.3.10_qbz5n2kfra8p0\\LocalCache\\local-packages\\Python310\\site-packages\\ydata_profiling\\model\\typeset_relations.py:34: FutureWarning:\n",
      "\n",
      "is_categorical_dtype is deprecated and will be removed in a future version. Use isinstance(dtype, CategoricalDtype) instead\n",
      "\n",
      "C:\\Users\\ASUS\\AppData\\Local\\Packages\\PythonSoftwareFoundation.Python.3.10_qbz5n2kfra8p0\\LocalCache\\local-packages\\Python310\\site-packages\\seaborn\\matrix.py:260: FutureWarning:\n",
      "\n",
      "Format strings passed to MaskedConstant are ignored, but in future may error or produce different behavior\n",
      "\n",
      "C:\\Users\\ASUS\\AppData\\Local\\Packages\\PythonSoftwareFoundation.Python.3.10_qbz5n2kfra8p0\\LocalCache\\local-packages\\Python310\\site-packages\\ydata_profiling\\model\\missing.py:78: UserWarning:\n",
      "\n",
      "There was an attempt to generate the Heatmap missing values diagrams, but this failed.\n",
      "To hide this warning, disable the calculation\n",
      "(using `df.profile_report(missing_diagrams={\"Heatmap\": False}`)\n",
      "If this is problematic for your use case, please report this as an issue:\n",
      "https://github.com/ydataai/ydata-profiling/issues\n",
      "(include the error message: 'could not convert string to float: '--'')\n",
      "\n"
     ]
    },
    {
     "data": {
      "application/vnd.jupyter.widget-view+json": {
       "model_id": "317ecf66b40e4d63a931f13793fdc025",
       "version_major": 2,
       "version_minor": 0
      },
      "text/plain": [
       "Generate report structure:   0%|          | 0/1 [00:00<?, ?it/s]"
      ]
     },
     "metadata": {},
     "output_type": "display_data"
    },
    {
     "data": {
      "application/vnd.jupyter.widget-view+json": {
       "model_id": "d6590d18874448e2ac101eebc95274ca",
       "version_major": 2,
       "version_minor": 0
      },
      "text/plain": [
       "Render HTML:   0%|          | 0/1 [00:00<?, ?it/s]"
      ]
     },
     "metadata": {},
     "output_type": "display_data"
    },
    {
     "data": {
      "application/vnd.jupyter.widget-view+json": {
       "model_id": "5a4d541297d14e8485e9e480176cff07",
       "version_major": 2,
       "version_minor": 0
      },
      "text/plain": [
       "Export report to file:   0%|          | 0/1 [00:00<?, ?it/s]"
      ]
     },
     "metadata": {},
     "output_type": "display_data"
    }
   ],
   "source": [
    "import gzip\n",
    "import pandas as pd\n",
    "from ydata_profiling import ProfileReport\n",
    "\n",
    "# Nombre del archivo comprimido\n",
    "file_name = 'steam_games.json.gz'\n",
    "\n",
    "# Descomprime el archivo y cargar los datos JSON\n",
    "with gzip.open(file_name, 'rb') as f:\n",
    "    df = pd.read_json(f, lines=True)\n",
    "\n",
    "# Reemplazar '?' con NaN en todo el DataFrame\n",
    "df.replace('?', pd.NA, inplace=True)\n",
    "\n",
    "# Genera el informe\n",
    "profile = ProfileReport(df, title=file_name)\n",
    "\n",
    "# Guarda el informe en un archivo HTML\n",
    "profile.to_file(\"informe_steam_games.html\")\n"
   ]
  },
  {
   "cell_type": "code",
   "execution_count": 62,
   "metadata": {},
   "outputs": [
    {
     "data": {
      "text/html": [
       "\n",
       "        <iframe\n",
       "            width=\"1000\"\n",
       "            height=\"600\"\n",
       "            src=\"informe_steam_games.html\"\n",
       "            frameborder=\"0\"\n",
       "            allowfullscreen\n",
       "            \n",
       "        ></iframe>\n",
       "        "
      ],
      "text/plain": [
       "<IPython.lib.display.IFrame at 0x20034b60a60>"
      ]
     },
     "metadata": {},
     "output_type": "display_data"
    },
    {
     "data": {
      "text/plain": [
       "True"
      ]
     },
     "execution_count": 62,
     "metadata": {},
     "output_type": "execute_result"
    }
   ],
   "source": [
    "\n",
    "import webbrowser\n",
    "\n",
    "# Ruta al archivo HTML del informe\n",
    "ruta_informe = \"informe_steam_games.html\"\n",
    "\n",
    "# Método 1: Mostrar el informe en un Jupyter Notebook utilizando IPython.display\n",
    "from IPython.display import IFrame, display\n",
    "display(IFrame(ruta_informe, width=1000, height=600))\n",
    "\n",
    "# Método 2: Abrir el informe en el navegador web predeterminado\n",
    "webbrowser.open(ruta_informe)\n"
   ]
  },
  {
   "cell_type": "code",
   "execution_count": 68,
   "metadata": {},
   "outputs": [
    {
     "name": "stdout",
     "output_type": "stream",
     "text": [
      "Número de filas y columnas en el DataFrame limpio: (22568, 13)\n",
      "Primeras 5 filas del DataFrame limpio:\n",
      "                 publisher genres                 app_name  \\\n",
      "88310            Kotoshiro     []      Lost Summoner Kitty   \n",
      "88311     Making Fun, Inc.     []                Ironbound   \n",
      "88312         Poolians.com     []  Real Pool 3D - Poolians   \n",
      "88313                 彼岸领域     []                  弹炸人2222   \n",
      "88315  Trickjump Games Ltd     []    Battle Royale Trainer   \n",
      "\n",
      "                         title  \\\n",
      "88310      Lost Summoner Kitty   \n",
      "88311                Ironbound   \n",
      "88312  Real Pool 3D - Poolians   \n",
      "88313                  弹炸人2222   \n",
      "88315    Battle Royale Trainer   \n",
      "\n",
      "                                                     url release_date  \\\n",
      "88310  http://store.steampowered.com/app/761140/Lost_...   2018-01-04   \n",
      "88311  http://store.steampowered.com/app/643980/Ironb...   2018-01-04   \n",
      "88312  http://store.steampowered.com/app/670290/Real_...   2017-07-24   \n",
      "88313     http://store.steampowered.com/app/767400/2222/   2017-12-07   \n",
      "88315  http://store.steampowered.com/app/772540/Battl...   2018-01-04   \n",
      "\n",
      "                                                    tags  \\\n",
      "88310      [Strategy, Action, Indie, Casual, Simulation]   \n",
      "88311  [Free to Play, Strategy, Indie, RPG, Card Game...   \n",
      "88312  [Free to Play, Simulation, Sports, Casual, Ind...   \n",
      "88313                        [Action, Adventure, Casual]   \n",
      "88315  [Action, Adventure, Simulation, FPS, Shooter, ...   \n",
      "\n",
      "                                             reviews_url  \\\n",
      "88310  http://steamcommunity.com/app/761140/reviews/?...   \n",
      "88311  http://steamcommunity.com/app/643980/reviews/?...   \n",
      "88312  http://steamcommunity.com/app/670290/reviews/?...   \n",
      "88313  http://steamcommunity.com/app/767400/reviews/?...   \n",
      "88315  http://steamcommunity.com/app/772540/reviews/?...   \n",
      "\n",
      "                                                   specs         price  \\\n",
      "88310                                    [Single-player]          4.99   \n",
      "88311  [Single-player, Multi-player, Online Multi-Pla...  Free To Play   \n",
      "88312  [Single-player, Multi-player, Online Multi-Pla...  Free to Play   \n",
      "88313                                    [Single-player]          0.99   \n",
      "88315                [Single-player, Steam Achievements]          3.99   \n",
      "\n",
      "       early_access        id            developer  \n",
      "88310           0.0  761140.0            Kotoshiro  \n",
      "88311           0.0  643980.0     Secret Level SRL  \n",
      "88312           0.0  670290.0         Poolians.com  \n",
      "88313           0.0  767400.0                 彼岸领域  \n",
      "88315           0.0  772540.0  Trickjump Games Ltd  \n"
     ]
    }
   ],
   "source": [
    "# Se eliminaran las  filas con valores nulos en el DataFrame\n",
    "df_clean = df.dropna()\n",
    "\n",
    "# Se verificará la nueva forma en que queda el DataFrame\n",
    "print(\"Número de filas y columnas en el DataFrame limpio:\", df_clean.shape)\n",
    "\n",
    "# Se verán las primeras filas del DataFrame limpio\n",
    "print(\"Primeras 5 filas del DataFrame limpio:\")\n",
    "print(df_clean.head())\n"
   ]
  },
  {
   "cell_type": "code",
   "execution_count": 69,
   "metadata": {},
   "outputs": [
    {
     "name": "stdout",
     "output_type": "stream",
     "text": [
      "Informe HTML generado exitosamente.\n"
     ]
    }
   ],
   "source": [
    "# Se generará un informe HTML del DataFrame limpio\n",
    "html_report = df_clean.to_html()\n",
    "\n",
    "# Se escribirá el informe HTML en un archivo con codificación 'utf-8'\n",
    "with open('data_clean_report.html', 'w', encoding='utf-8') as f:\n",
    "    f.write(html_report)\n",
    "    print(\"Informe HTML generado exitosamente.\")"
   ]
  },
  {
   "cell_type": "code",
   "execution_count": 70,
   "metadata": {},
   "outputs": [
    {
     "data": {
      "text/plain": [
       "True"
      ]
     },
     "execution_count": 70,
     "metadata": {},
     "output_type": "execute_result"
    }
   ],
   "source": [
    "import webbrowser\n",
    "\n",
    "# Ruta del archivo HTML del informe\n",
    "ruta_informe = \"data_clean_report.html\"\n",
    "\n",
    "# Nos abrirá el informe en el navegador web predeterminado\n",
    "webbrowser.open(ruta_informe)\n"
   ]
  },
  {
   "cell_type": "markdown",
   "metadata": {},
   "source": [
    "                 TRABAJO DE INGENIERIA DE DATOS. ARCHIVO:(\"user_reviews.gz.json\")"
   ]
  },
  {
   "cell_type": "code",
   "execution_count": 11,
   "metadata": {},
   "outputs": [
    {
     "name": "stdout",
     "output_type": "stream",
     "text": [
      "Error de formato JSON en la línea 1:\n",
      "\n",
      "\n",
      "Mensaje de error: Expecting value: line 2 column 1 (char 1)\n"
     ]
    }
   ],
   "source": [
    "import json\n",
    "\n",
    "# Nombre del archivo JSON con errores\n",
    "archivo_errores = 'user_reviews_corregido.json'\n",
    "\n",
    "# Abrir el archivo y leer línea por línea para identificar el error\n",
    "with open(archivo_errores, 'r', encoding='utf-8') as file:\n",
    "    for num_linea, linea in enumerate(file, start=1):\n",
    "        try:\n",
    "            # Intenta cargar cada línea como JSON\n",
    "            json.loads(linea)\n",
    "        except json.JSONDecodeError as e:\n",
    "            print(f\"Error de formato JSON en la línea {num_linea}:\")\n",
    "            print(linea)\n",
    "            print(f\"Mensaje de error: {e}\")\n",
    "            break\n"
   ]
  },
  {
   "cell_type": "code",
   "execution_count": 12,
   "metadata": {},
   "outputs": [
    {
     "name": "stdout",
     "output_type": "stream",
     "text": [
      "Se ha guardado el JSON corregido en el archivo: C:\\Users\\ASUS\\Downloads\\user_reviews_corregido.json\n"
     ]
    }
   ],
   "source": [
    "import json\n",
    "\n",
    "# Ruta del archivo JSON original\n",
    "ruta_archivo_original = 'C:\\\\Users\\\\ASUS\\\\Downloads\\\\user_reviews.json'\n",
    "\n",
    "# Ruta para guardar el archivo JSON corregido\n",
    "ruta_archivo_corregido = 'C:\\\\Users\\\\ASUS\\\\Downloads\\\\user_reviews_corregido.json'\n",
    "\n",
    "# Lee el archivo JSON original y corrige manualmente los errores\n",
    "with open(ruta_archivo_original, 'r', encoding='utf-8') as file:\n",
    "    data = file.read()\n",
    "\n",
    "# Corrige manualmente los errores en el JSON y guarda el archivo corregido\n",
    "# Se asegura de reemplazar las comillas simples que están dentro de las cadenas por comillas dobles\n",
    "# Luego pega el JSON corregido en la siguiente variable (json_corregido)\n",
    "json_corregido = '''\n",
    "{\n",
    "    \"user_id\": \"76561197970982479\",\n",
    "    \"user_url\": \"http://steamcommunity.com/profiles/76561197970982479\",\n",
    "    \"reviews\": [\n",
    "        {\n",
    "            \"funny\": \"\",\n",
    "            \"posted\": \"Posted November 5, 2011.\",\n",
    "            \"last_edited\": \"\",\n",
    "            \"item_id\": \"1250\",\n",
    "            \"helpful\": \"No ratings yet\",\n",
    "            \"recommend\": true,\n",
    "            \"review\": \"Simple yet with great replayability. In my opinion does 'zombie' hordes and team work better than left 4 dead plus has a global leveling system. Alot of down to earth 'zombie' splattering fun for the whole family. Amazed this sort of FPS is so rare.\"\n",
    "        },\n",
    "        {\n",
    "            \"funny\": \"\",\n",
    "            \"posted\": \"Posted July 15, 2011.\",\n",
    "            \"last_edited\": \"\",\n",
    "            \"item_id\": \"22200\",\n",
    "            \"helpful\": \"No ratings yet\",\n",
    "            \"recommend\": true,\n",
    "            \"review\": \"It's unique and worth a playthrough.\"\n",
    "        },\n",
    "        {\n",
    "            \"funny\": \"\",\n",
    "            \"posted\": \"Posted April 21, 2011.\",\n",
    "            \"last_edited\": \"\",\n",
    "            \"item_id\": \"43110\",\n",
    "            \"helpful\": \"No ratings yet\",\n",
    "            \"recommend\": true,\n",
    "            \"review\": \"Great atmosphere. The gunplay can be a bit chunky at times but at the end of the day this game is definitely worth it and I hope they do a sequel...so buy the game so I get a sequel!\"\n",
    "        }\n",
    "    ]\n",
    "}\n",
    "'''\n",
    "\n",
    "# Guardar el archivo JSON corregido\n",
    "with open(ruta_archivo_corregido, 'w', encoding='utf-8') as file:\n",
    "    file.write(json_corregido)\n",
    "\n",
    "print(\"Se ha guardado el JSON corregido en el archivo:\", ruta_archivo_corregido)\n"
   ]
  },
  {
   "cell_type": "code",
   "execution_count": 13,
   "metadata": {},
   "outputs": [
    {
     "name": "stdout",
     "output_type": "stream",
     "text": [
      "Número de filas y columnas en el DataFrame: (3, 3)\n",
      "Primeras 5 filas del DataFrame:\n",
      "             user_id                                           user_url  \\\n",
      "0  76561197970982480  http://steamcommunity.com/profiles/76561197970...   \n",
      "1  76561197970982480  http://steamcommunity.com/profiles/76561197970...   \n",
      "2  76561197970982480  http://steamcommunity.com/profiles/76561197970...   \n",
      "\n",
      "                                             reviews  \n",
      "0  {'funny': '', 'posted': 'Posted November 5, 20...  \n",
      "1  {'funny': '', 'posted': 'Posted July 15, 2011....  \n",
      "2  {'funny': '', 'posted': 'Posted April 21, 2011...  \n"
     ]
    }
   ],
   "source": [
    "import pandas as pd\n",
    "\n",
    "# Ruta del archivo descargado\n",
    "ruta_archivo = r'C:\\Users\\ASUS\\Downloads\\user_reviews_corregido.json'\n",
    "\n",
    "# Carga el archivo JSON en un DataFrame de Pandas\n",
    "df = pd.read_json(ruta_archivo)\n",
    "\n",
    "# Realiza el Análisis Exploratorio de Datos (EDA)\n",
    "# Por ejemplo, nos muestra las primeras filas del DataFrame\n",
    "print(\"Número de filas y columnas en el DataFrame:\", df.shape)\n",
    "print(\"Primeras 5 filas del DataFrame:\")\n",
    "print(df.head())\n",
    "# Continuar con el EDA y el análisis según sea necesario\n"
   ]
  },
  {
   "cell_type": "code",
   "execution_count": 14,
   "metadata": {},
   "outputs": [
    {
     "name": "stdout",
     "output_type": "stream",
     "text": [
      "\n",
      "Información general del DataFrame:\n",
      "<class 'pandas.core.frame.DataFrame'>\n",
      "RangeIndex: 3 entries, 0 to 2\n",
      "Data columns (total 3 columns):\n",
      " #   Column    Non-Null Count  Dtype \n",
      "---  ------    --------------  ----- \n",
      " 0   user_id   3 non-null      int64 \n",
      " 1   user_url  3 non-null      object\n",
      " 2   reviews   3 non-null      object\n",
      "dtypes: int64(1), object(2)\n",
      "memory usage: 200.0+ bytes\n",
      "None\n"
     ]
    }
   ],
   "source": [
    "# Obtendremos información general sobre el DataFrame\n",
    "print(\"\\nInformación general del DataFrame:\")\n",
    "print(df.info())"
   ]
  },
  {
   "cell_type": "code",
   "execution_count": 15,
   "metadata": {},
   "outputs": [
    {
     "data": {
      "text/plain": []
     },
     "execution_count": 15,
     "metadata": {},
     "output_type": "execute_result"
    }
   ],
   "source": [
    "import pandas as pd\n",
    "import dtale\n",
    "\n",
    "# Ruta del archivo descargado\n",
    "ruta_archivo = r'C:\\Users\\ASUS\\Downloads\\user_reviews_corregido.json'\n",
    "\n",
    "# Carga el archivo JSON en un DataFrame de Pandas\n",
    "user_reviews = pd.read_json(ruta_archivo)\n",
    "\n",
    "# Visualiza el DataFrame en el navegador web usando dtale\n",
    "dtale.show(user_reviews, open_browser=True)\n"
   ]
  },
  {
   "cell_type": "code",
   "execution_count": 16,
   "metadata": {},
   "outputs": [
    {
     "data": {
      "application/vnd.jupyter.widget-view+json": {
       "model_id": "263f55899f3c4d1e906edbb777636fab",
       "version_major": 2,
       "version_minor": 0
      },
      "text/plain": [
       "Summarize dataset:   0%|          | 0/5 [00:00<?, ?it/s]"
      ]
     },
     "metadata": {},
     "output_type": "display_data"
    },
    {
     "name": "stderr",
     "output_type": "stream",
     "text": [
      "C:\\Users\\ASUS\\AppData\\Local\\Packages\\PythonSoftwareFoundation.Python.3.10_qbz5n2kfra8p0\\LocalCache\\local-packages\\Python310\\site-packages\\ydata_profiling\\model\\typeset.py:208: FutureWarning:\n",
      "\n",
      "is_categorical_dtype is deprecated and will be removed in a future version. Use isinstance(dtype, CategoricalDtype) instead\n",
      "\n",
      "C:\\Users\\ASUS\\AppData\\Local\\Packages\\PythonSoftwareFoundation.Python.3.10_qbz5n2kfra8p0\\LocalCache\\local-packages\\Python310\\site-packages\\ydata_profiling\\model\\typeset.py:125: FutureWarning:\n",
      "\n",
      "is_categorical_dtype is deprecated and will be removed in a future version. Use isinstance(dtype, CategoricalDtype) instead\n",
      "\n",
      "C:\\Users\\ASUS\\AppData\\Local\\Packages\\PythonSoftwareFoundation.Python.3.10_qbz5n2kfra8p0\\LocalCache\\local-packages\\Python310\\site-packages\\ydata_profiling\\model\\typeset_relations.py:34: FutureWarning:\n",
      "\n",
      "is_categorical_dtype is deprecated and will be removed in a future version. Use isinstance(dtype, CategoricalDtype) instead\n",
      "\n",
      "C:\\Users\\ASUS\\AppData\\Local\\Packages\\PythonSoftwareFoundation.Python.3.10_qbz5n2kfra8p0\\LocalCache\\local-packages\\Python310\\site-packages\\ydata_profiling\\model\\typeset.py:208: FutureWarning:\n",
      "\n",
      "is_categorical_dtype is deprecated and will be removed in a future version. Use isinstance(dtype, CategoricalDtype) instead\n",
      "\n",
      "C:\\Users\\ASUS\\AppData\\Local\\Packages\\PythonSoftwareFoundation.Python.3.10_qbz5n2kfra8p0\\LocalCache\\local-packages\\Python310\\site-packages\\ydata_profiling\\model\\typeset.py:125: FutureWarning:\n",
      "\n",
      "is_categorical_dtype is deprecated and will be removed in a future version. Use isinstance(dtype, CategoricalDtype) instead\n",
      "\n",
      "C:\\Users\\ASUS\\AppData\\Local\\Packages\\PythonSoftwareFoundation.Python.3.10_qbz5n2kfra8p0\\LocalCache\\local-packages\\Python310\\site-packages\\ydata_profiling\\model\\typeset_relations.py:34: FutureWarning:\n",
      "\n",
      "is_categorical_dtype is deprecated and will be removed in a future version. Use isinstance(dtype, CategoricalDtype) instead\n",
      "\n",
      "C:\\Users\\ASUS\\AppData\\Local\\Packages\\PythonSoftwareFoundation.Python.3.10_qbz5n2kfra8p0\\LocalCache\\local-packages\\Python310\\site-packages\\ydata_profiling\\model\\typeset.py:208: FutureWarning:\n",
      "\n",
      "is_categorical_dtype is deprecated and will be removed in a future version. Use isinstance(dtype, CategoricalDtype) instead\n",
      "\n",
      "C:\\Users\\ASUS\\AppData\\Local\\Packages\\PythonSoftwareFoundation.Python.3.10_qbz5n2kfra8p0\\LocalCache\\local-packages\\Python310\\site-packages\\ydata_profiling\\model\\typeset.py:208: FutureWarning:\n",
      "\n",
      "is_categorical_dtype is deprecated and will be removed in a future version. Use isinstance(dtype, CategoricalDtype) instead\n",
      "\n",
      "C:\\Users\\ASUS\\AppData\\Local\\Packages\\PythonSoftwareFoundation.Python.3.10_qbz5n2kfra8p0\\LocalCache\\local-packages\\Python310\\site-packages\\ydata_profiling\\model\\typeset.py:125: FutureWarning:\n",
      "\n",
      "is_categorical_dtype is deprecated and will be removed in a future version. Use isinstance(dtype, CategoricalDtype) instead\n",
      "\n"
     ]
    },
    {
     "data": {
      "application/vnd.jupyter.widget-view+json": {
       "model_id": "9b00da7990c1457fb4ea433a57e340aa",
       "version_major": 2,
       "version_minor": 0
      },
      "text/plain": [
       "Generate report structure:   0%|          | 0/1 [00:00<?, ?it/s]"
      ]
     },
     "metadata": {},
     "output_type": "display_data"
    },
    {
     "data": {
      "application/vnd.jupyter.widget-view+json": {
       "model_id": "b7970a11c60f44ec918548ef803affca",
       "version_major": 2,
       "version_minor": 0
      },
      "text/plain": [
       "Render HTML:   0%|          | 0/1 [00:00<?, ?it/s]"
      ]
     },
     "metadata": {},
     "output_type": "display_data"
    },
    {
     "data": {
      "application/vnd.jupyter.widget-view+json": {
       "model_id": "81a5077d839a4b7da70f606d182b8e9d",
       "version_major": 2,
       "version_minor": 0
      },
      "text/plain": [
       "Export report to file:   0%|          | 0/1 [00:00<?, ?it/s]"
      ]
     },
     "metadata": {},
     "output_type": "display_data"
    }
   ],
   "source": [
    "import pandas as pd\n",
    "from ydata_profiling import ProfileReport\n",
    "\n",
    "# Ruta del archivo JSON\n",
    "ruta_archivo = r'C:\\Users\\ASUS\\Downloads\\user_reviews_corregido.json'\n",
    "\n",
    "# Carga el archivo JSON en un DataFrame de Pandas\n",
    "df = pd.read_json(ruta_archivo)\n",
    "\n",
    "# Realiza el Análisis Exploratorio de Datos (EDA)\n",
    "profile = ProfileReport(df, title=\"Informe de Análisis Exploratorio de Datos\")\n",
    "\n",
    "# Guarda el informe en un archivo HTML\n",
    "profile.to_file(\"informe_analisis_exploratorio.html\")\n"
   ]
  },
  {
   "cell_type": "code",
   "execution_count": 22,
   "metadata": {},
   "outputs": [
    {
     "data": {
      "text/html": [
       "\n",
       "        <iframe\n",
       "            width=\"1000\"\n",
       "            height=\"600\"\n",
       "            src=\"informe_analisis_exploratorio.html\"\n",
       "            frameborder=\"0\"\n",
       "            allowfullscreen\n",
       "            \n",
       "        ></iframe>\n",
       "        "
      ],
      "text/plain": [
       "<IPython.lib.display.IFrame at 0x2003d6cd540>"
      ]
     },
     "metadata": {},
     "output_type": "display_data"
    },
    {
     "data": {
      "text/plain": [
       "True"
      ]
     },
     "execution_count": 22,
     "metadata": {},
     "output_type": "execute_result"
    }
   ],
   "source": [
    "from IPython.display import IFrame, display\n",
    "\n",
    "# Ruta del archivo HTML del informe\n",
    "ruta_informe = \"informe_analisis_exploratorio.html\"\n",
    "\n",
    "# Muestra el informe en un Jupyter Notebook utilizando IPython.display\n",
    "display(IFrame(ruta_informe, width=1000, height=600))\n",
    "\n",
    "# Abre el informe en el navegador web predeterminado\n",
    "import webbrowser\n",
    "webbrowser.open(ruta_informe)\n"
   ]
  },
  {
   "cell_type": "code",
   "execution_count": 23,
   "metadata": {},
   "outputs": [
    {
     "name": "stdout",
     "output_type": "stream",
     "text": [
      "Requirement already satisfied: textblob in c:\\users\\asus\\appdata\\local\\packages\\pythonsoftwarefoundation.python.3.10_qbz5n2kfra8p0\\localcache\\local-packages\\python310\\site-packages (0.17.1)Note: you may need to restart the kernel to use updated packages.\n",
      "\n",
      "Requirement already satisfied: nltk>=3.1 in c:\\users\\asus\\appdata\\local\\packages\\pythonsoftwarefoundation.python.3.10_qbz5n2kfra8p0\\localcache\\local-packages\\python310\\site-packages (from textblob) (3.8.1)\n",
      "Requirement already satisfied: click in c:\\users\\asus\\appdata\\local\\packages\\pythonsoftwarefoundation.python.3.10_qbz5n2kfra8p0\\localcache\\local-packages\\python310\\site-packages (from nltk>=3.1->textblob) (8.1.7)\n",
      "Requirement already satisfied: joblib in c:\\users\\asus\\appdata\\local\\packages\\pythonsoftwarefoundation.python.3.10_qbz5n2kfra8p0\\localcache\\local-packages\\python310\\site-packages (from nltk>=3.1->textblob) (1.3.2)\n",
      "Requirement already satisfied: regex>=2021.8.3 in c:\\users\\asus\\appdata\\local\\packages\\pythonsoftwarefoundation.python.3.10_qbz5n2kfra8p0\\localcache\\local-packages\\python310\\site-packages (from nltk>=3.1->textblob) (2023.12.25)\n",
      "Requirement already satisfied: tqdm in c:\\users\\asus\\appdata\\local\\packages\\pythonsoftwarefoundation.python.3.10_qbz5n2kfra8p0\\localcache\\local-packages\\python310\\site-packages (from nltk>=3.1->textblob) (4.66.1)\n",
      "Requirement already satisfied: colorama in c:\\users\\asus\\appdata\\local\\packages\\pythonsoftwarefoundation.python.3.10_qbz5n2kfra8p0\\localcache\\local-packages\\python310\\site-packages (from click->nltk>=3.1->textblob) (0.4.6)\n"
     ]
    },
    {
     "name": "stderr",
     "output_type": "stream",
     "text": [
      "\n",
      "[notice] A new release of pip is available: 23.3.1 -> 23.3.2\n",
      "[notice] To update, run: C:\\Users\\ASUS\\AppData\\Local\\Microsoft\\WindowsApps\\PythonSoftwareFoundation.Python.3.10_qbz5n2kfra8p0\\python.exe -m pip install --upgrade pip\n"
     ]
    }
   ],
   "source": [
    "pip install textblob"
   ]
  },
  {
   "cell_type": "code",
   "execution_count": 25,
   "metadata": {},
   "outputs": [],
   "source": [
    "import pandas as pd\n",
    "from textblob import TextBlob\n",
    "\n",
    "# Ruta del archivo JSON\n",
    "ruta_archivo = r'C:\\Users\\ASUS\\Desktop\\PI_ML_OPS\\DATASET  Y EDA PROYECTO INDIVIDUAL\\user_reviews_corregido.json'\n",
    "\n",
    "# Carga el archivo JSON en un DataFrame de Pandas\n",
    "df = pd.read_json(ruta_archivo)\n",
    "\n",
    "# Función para analizar el sentimiento y asignar valores '0', '1' o '2' según la polaridad\n",
    "def get_sentiment(text):\n",
    "    if isinstance(text, str):\n",
    "        analysis = TextBlob(text)\n",
    "        polarity = analysis.sentiment.polarity\n",
    "        if polarity < 0:\n",
    "            return '0'  # Negativo\n",
    "        elif polarity == 0:\n",
    "            return '1'  # Neutral\n",
    "        else:\n",
    "            return '2'  # Positivo\n",
    "    else:\n",
    "        return '1'  # Valor por defecto si no hay reseña (Neutral)\n",
    "\n",
    "# Aplica la función a la columna 'reviews' y crear la nueva columna 'sentiment_analysis'\n",
    "df['sentiment_analysis'] = df['reviews'].apply(get_sentiment)\n",
    "\n",
    "# Guarda el DataFrame actualizado con la nueva columna\n",
    "df.to_json(r'C:\\Users\\ASUS\\Desktop\\PI_ML_OPS\\DATASET  Y EDA PROYECTO INDIVIDUAL\\user_reviews_corregido_con_sentiment.json', orient='records')\n"
   ]
  },
  {
   "cell_type": "code",
   "execution_count": 26,
   "metadata": {},
   "outputs": [
    {
     "name": "stdout",
     "output_type": "stream",
     "text": [
      "Index(['user_id', 'user_url', 'reviews', 'sentiment_analysis'], dtype='object')\n"
     ]
    }
   ],
   "source": [
    "print(df.columns)"
   ]
  },
  {
   "cell_type": "code",
   "execution_count": 28,
   "metadata": {},
   "outputs": [
    {
     "data": {
      "text/plain": []
     },
     "execution_count": 28,
     "metadata": {},
     "output_type": "execute_result"
    }
   ],
   "source": [
    "import pandas as pd\n",
    "import dtale\n",
    "\n",
    "# Ruta del archivo con la nueva columna de análisis de sentimientos\n",
    "ruta_archivo = r'C:\\Users\\ASUS\\Desktop\\PI_ML_OPS\\DATASET  Y EDA PROYECTO INDIVIDUAL\\user_reviews_corregido_con_sentiment.json'\n",
    "\n",
    "# Carga el archivo JSON en un DataFrame de Pandas\n",
    "user_reviews = pd.read_json(ruta_archivo, orient='records')\n",
    "\n",
    "# Visualiza el DataFrame en el navegador web usando dtale\n",
    "dtale.show(user_reviews, open_browser=True)\n"
   ]
  },
  {
   "cell_type": "code",
   "execution_count": 29,
   "metadata": {},
   "outputs": [
    {
     "data": {
      "application/vnd.jupyter.widget-view+json": {
       "model_id": "2604c32f69a64578b1e54ba45d344c8b",
       "version_major": 2,
       "version_minor": 0
      },
      "text/plain": [
       "Summarize dataset:   0%|          | 0/5 [00:00<?, ?it/s]"
      ]
     },
     "metadata": {},
     "output_type": "display_data"
    },
    {
     "name": "stderr",
     "output_type": "stream",
     "text": [
      "C:\\Users\\ASUS\\AppData\\Local\\Packages\\PythonSoftwareFoundation.Python.3.10_qbz5n2kfra8p0\\LocalCache\\local-packages\\Python310\\site-packages\\ydata_profiling\\model\\typeset.py:125: FutureWarning:\n",
      "\n",
      "is_categorical_dtype is deprecated and will be removed in a future version. Use isinstance(dtype, CategoricalDtype) instead\n",
      "\n",
      "C:\\Users\\ASUS\\AppData\\Local\\Packages\\PythonSoftwareFoundation.Python.3.10_qbz5n2kfra8p0\\LocalCache\\local-packages\\Python310\\site-packages\\ydata_profiling\\model\\typeset_relations.py:34: FutureWarning:\n",
      "\n",
      "is_categorical_dtype is deprecated and will be removed in a future version. Use isinstance(dtype, CategoricalDtype) instead\n",
      "\n",
      "C:\\Users\\ASUS\\AppData\\Local\\Packages\\PythonSoftwareFoundation.Python.3.10_qbz5n2kfra8p0\\LocalCache\\local-packages\\Python310\\site-packages\\ydata_profiling\\model\\typeset.py:125: FutureWarning:\n",
      "\n",
      "is_categorical_dtype is deprecated and will be removed in a future version. Use isinstance(dtype, CategoricalDtype) instead\n",
      "\n",
      "C:\\Users\\ASUS\\AppData\\Local\\Packages\\PythonSoftwareFoundation.Python.3.10_qbz5n2kfra8p0\\LocalCache\\local-packages\\Python310\\site-packages\\ydata_profiling\\model\\typeset_relations.py:34: FutureWarning:\n",
      "\n",
      "is_categorical_dtype is deprecated and will be removed in a future version. Use isinstance(dtype, CategoricalDtype) instead\n",
      "\n",
      "C:\\Users\\ASUS\\AppData\\Local\\Packages\\PythonSoftwareFoundation.Python.3.10_qbz5n2kfra8p0\\LocalCache\\local-packages\\Python310\\site-packages\\ydata_profiling\\model\\typeset.py:125: FutureWarning:\n",
      "\n",
      "is_categorical_dtype is deprecated and will be removed in a future version. Use isinstance(dtype, CategoricalDtype) instead\n",
      "\n",
      "C:\\Users\\ASUS\\AppData\\Local\\Packages\\PythonSoftwareFoundation.Python.3.10_qbz5n2kfra8p0\\LocalCache\\local-packages\\Python310\\site-packages\\ydata_profiling\\model\\typeset.py:125: FutureWarning:\n",
      "\n",
      "is_categorical_dtype is deprecated and will be removed in a future version. Use isinstance(dtype, CategoricalDtype) instead\n",
      "\n",
      "C:\\Users\\ASUS\\AppData\\Local\\Packages\\PythonSoftwareFoundation.Python.3.10_qbz5n2kfra8p0\\LocalCache\\local-packages\\Python310\\site-packages\\ydata_profiling\\model\\typeset.py:208: FutureWarning:\n",
      "\n",
      "is_categorical_dtype is deprecated and will be removed in a future version. Use isinstance(dtype, CategoricalDtype) instead\n",
      "\n",
      "C:\\Users\\ASUS\\AppData\\Local\\Packages\\PythonSoftwareFoundation.Python.3.10_qbz5n2kfra8p0\\LocalCache\\local-packages\\Python310\\site-packages\\ydata_profiling\\model\\typeset.py:125: FutureWarning:\n",
      "\n",
      "is_categorical_dtype is deprecated and will be removed in a future version. Use isinstance(dtype, CategoricalDtype) instead\n",
      "\n",
      "C:\\Users\\ASUS\\AppData\\Local\\Packages\\PythonSoftwareFoundation.Python.3.10_qbz5n2kfra8p0\\LocalCache\\local-packages\\Python310\\site-packages\\ydata_profiling\\model\\typeset.py:125: FutureWarning:\n",
      "\n",
      "is_categorical_dtype is deprecated and will be removed in a future version. Use isinstance(dtype, CategoricalDtype) instead\n",
      "\n"
     ]
    },
    {
     "data": {
      "application/vnd.jupyter.widget-view+json": {
       "model_id": "258320a5350e4d37bf3f2b1679d2343c",
       "version_major": 2,
       "version_minor": 0
      },
      "text/plain": [
       "Generate report structure:   0%|          | 0/1 [00:00<?, ?it/s]"
      ]
     },
     "metadata": {},
     "output_type": "display_data"
    },
    {
     "data": {
      "application/vnd.jupyter.widget-view+json": {
       "model_id": "e64ff81aab004cbc892c7d7509a38961",
       "version_major": 2,
       "version_minor": 0
      },
      "text/plain": [
       "Render HTML:   0%|          | 0/1 [00:00<?, ?it/s]"
      ]
     },
     "metadata": {},
     "output_type": "display_data"
    },
    {
     "data": {
      "application/vnd.jupyter.widget-view+json": {
       "model_id": "e822a7de4b4543549cb9bcac07798c8d",
       "version_major": 2,
       "version_minor": 0
      },
      "text/plain": [
       "Export report to file:   0%|          | 0/1 [00:00<?, ?it/s]"
      ]
     },
     "metadata": {},
     "output_type": "display_data"
    }
   ],
   "source": [
    "import pandas as pd\n",
    "from ydata_profiling import ProfileReport\n",
    "\n",
    "# Ruta del archivo JSON\n",
    "ruta_archivo = r'C:\\Users\\ASUS\\Desktop\\PI_ML_OPS\\DATASET  Y EDA PROYECTO INDIVIDUAL\\user_reviews_corregido_con_sentiment.json'\n",
    "\n",
    "# Carga el archivo JSON en un DataFrame de Pandas\n",
    "df = pd.read_json(ruta_archivo)\n",
    "\n",
    "# Reemplaza '?' con NaN en todo el DataFrame\n",
    "df.replace('?', pd.NA, inplace=True)\n",
    "\n",
    "# Genera el informe\n",
    "profile = ProfileReport(df, title=ruta_archivo)\n",
    "\n",
    "# Guarda el informe en un archivo HTML\n",
    "profile.to_file(\"informe_user_reviews.html\")\n"
   ]
  },
  {
   "cell_type": "code",
   "execution_count": 30,
   "metadata": {},
   "outputs": [
    {
     "data": {
      "text/html": [
       "\n",
       "        <iframe\n",
       "            width=\"1000\"\n",
       "            height=\"600\"\n",
       "            src=\"informe_user_reviews.html\"\n",
       "            frameborder=\"0\"\n",
       "            allowfullscreen\n",
       "            \n",
       "        ></iframe>\n",
       "        "
      ],
      "text/plain": [
       "<IPython.lib.display.IFrame at 0x2003ca0a470>"
      ]
     },
     "metadata": {},
     "output_type": "display_data"
    },
    {
     "data": {
      "text/plain": [
       "True"
      ]
     },
     "execution_count": 30,
     "metadata": {},
     "output_type": "execute_result"
    }
   ],
   "source": [
    "import webbrowser\n",
    "from IPython.display import IFrame, display\n",
    "\n",
    "# Ruta del nuevo archivo HTML del informe generado\n",
    "ruta_informe = \"informe_user_reviews.html\"\n",
    "\n",
    "# Método 1: Mostrar el informe en un Jupyter Notebook utilizando IPython.display\n",
    "display(IFrame(ruta_informe, width=1000, height=600))\n",
    "\n",
    "# Método 2: Abre el informe en el navegador web predeterminado\n",
    "webbrowser.open(ruta_informe)\n"
   ]
  },
  {
   "cell_type": "code",
   "execution_count": 31,
   "metadata": {},
   "outputs": [
    {
     "name": "stdout",
     "output_type": "stream",
     "text": [
      "Número de filas y columnas en el DataFrame limpio: (3, 4)\n",
      "Primeras 5 filas del DataFrame limpio:\n",
      "             user_id                                           user_url  \\\n",
      "0  76561197970982480  http://steamcommunity.com/profiles/76561197970...   \n",
      "1  76561197970982480  http://steamcommunity.com/profiles/76561197970...   \n",
      "2  76561197970982480  http://steamcommunity.com/profiles/76561197970...   \n",
      "\n",
      "                                             reviews  sentiment_analysis  \n",
      "0  {'funny': '', 'posted': 'Posted November 5, 20...                   1  \n",
      "1  {'funny': '', 'posted': 'Posted July 15, 2011....                   1  \n",
      "2  {'funny': '', 'posted': 'Posted April 21, 2011...                   1  \n"
     ]
    }
   ],
   "source": [
    "import pandas as pd\n",
    "\n",
    "# Carga el archivo user_reviews\n",
    "ruta_archivo = r'C:\\Users\\ASUS\\Desktop\\PI_ML_OPS\\DATASET  Y EDA PROYECTO INDIVIDUAL\\user_reviews_corregido_con_sentiment.json'\n",
    "\n",
    "# Carga el archivo JSON en un DataFrame de Pandas\n",
    "df = pd.read_json(ruta_archivo)\n",
    "\n",
    "# Elimina las filas con valores nulos en el DataFrame\n",
    "df_clean = df.dropna()\n",
    "\n",
    "# Verifica la nueva forma del DataFrame limpio\n",
    "print(\"Número de filas y columnas en el DataFrame limpio:\", df_clean.shape)\n",
    "\n",
    "# Muestra las primeras 5 filas del DataFrame limpio\n",
    "print(\"Primeras 5 filas del DataFrame limpio:\")\n",
    "print(df_clean.head())\n"
   ]
  },
  {
   "cell_type": "code",
   "execution_count": 32,
   "metadata": {},
   "outputs": [
    {
     "name": "stdout",
     "output_type": "stream",
     "text": [
      "Index(['user_id', 'user_url', 'reviews', 'sentiment_analysis'], dtype='object')\n"
     ]
    }
   ],
   "source": [
    "print(df.columns)\n"
   ]
  },
  {
   "cell_type": "code",
   "execution_count": 33,
   "metadata": {},
   "outputs": [
    {
     "name": "stdout",
     "output_type": "stream",
     "text": [
      "             user_id                                           user_url  \\\n",
      "count   3.000000e+00                                                  3   \n",
      "unique           NaN                                                  1   \n",
      "top              NaN  http://steamcommunity.com/profiles/76561197970...   \n",
      "freq             NaN                                                  3   \n",
      "mean    7.656120e+16                                                NaN   \n",
      "std     0.000000e+00                                                NaN   \n",
      "min     7.656120e+16                                                NaN   \n",
      "25%     7.656120e+16                                                NaN   \n",
      "50%     7.656120e+16                                                NaN   \n",
      "75%     7.656120e+16                                                NaN   \n",
      "max     7.656120e+16                                                NaN   \n",
      "\n",
      "                                                  reviews  sentiment_analysis  \n",
      "count                                                   3                 3.0  \n",
      "unique                                                  3                 NaN  \n",
      "top     {'funny': '', 'posted': 'Posted November 5, 20...                 NaN  \n",
      "freq                                                    1                 NaN  \n",
      "mean                                                  NaN                 1.0  \n",
      "std                                                   NaN                 0.0  \n",
      "min                                                   NaN                 1.0  \n",
      "25%                                                   NaN                 1.0  \n",
      "50%                                                   NaN                 1.0  \n",
      "75%                                                   NaN                 1.0  \n",
      "max                                                   NaN                 1.0  \n"
     ]
    }
   ],
   "source": [
    "import pandas as pd\n",
    "\n",
    "# Con el siguiente codigo, Obtendremos una estadística descriptiva, pero, en este caso, para todas las columnas\n",
    "descriptivas = df.describe(include='all')\n",
    "\n",
    "# Mostrar estadísticas descriptivas\n",
    "print(descriptivas)"
   ]
  },
  {
   "cell_type": "markdown",
   "metadata": {},
   "source": [
    "                                                         ETL"
   ]
  },
  {
   "cell_type": "code",
   "execution_count": 34,
   "metadata": {},
   "outputs": [
    {
     "name": "stdout",
     "output_type": "stream",
     "text": [
      "Número de filas y columnas en el DataFrame limpio: (3, 4)\n",
      "Primeras 5 filas del DataFrame limpio:\n",
      "             user_id                                           user_url  \\\n",
      "0  76561197970982480  http://steamcommunity.com/profiles/76561197970...   \n",
      "1  76561197970982480  http://steamcommunity.com/profiles/76561197970...   \n",
      "2  76561197970982480  http://steamcommunity.com/profiles/76561197970...   \n",
      "\n",
      "                                             reviews  sentiment_analysis  \n",
      "0  {'funny': '', 'posted': 'Posted November 5, 20...                   1  \n",
      "1  {'funny': '', 'posted': 'Posted July 15, 2011....                   1  \n",
      "2  {'funny': '', 'posted': 'Posted April 21, 2011...                   1  \n",
      "             user_id                                           user_url  \\\n",
      "count   3.000000e+00                                                  3   \n",
      "unique           NaN                                                  1   \n",
      "top              NaN  http://steamcommunity.com/profiles/76561197970...   \n",
      "freq             NaN                                                  3   \n",
      "mean    7.656120e+16                                                NaN   \n",
      "std     0.000000e+00                                                NaN   \n",
      "min     7.656120e+16                                                NaN   \n",
      "25%     7.656120e+16                                                NaN   \n",
      "50%     7.656120e+16                                                NaN   \n",
      "75%     7.656120e+16                                                NaN   \n",
      "max     7.656120e+16                                                NaN   \n",
      "\n",
      "                                                  reviews  sentiment_analysis  \n",
      "count                                                   3                 3.0  \n",
      "unique                                                  3                 NaN  \n",
      "top     {'funny': '', 'posted': 'Posted November 5, 20...                 NaN  \n",
      "freq                                                    1                 NaN  \n",
      "mean                                                  NaN                 1.0  \n",
      "std                                                   NaN                 0.0  \n",
      "min                                                   NaN                 1.0  \n",
      "25%                                                   NaN                 1.0  \n",
      "50%                                                   NaN                 1.0  \n",
      "75%                                                   NaN                 1.0  \n",
      "max                                                   NaN                 1.0  \n",
      "Informe HTML generado exitosamente.\n"
     ]
    },
    {
     "data": {
      "text/plain": [
       "True"
      ]
     },
     "execution_count": 34,
     "metadata": {},
     "output_type": "execute_result"
    }
   ],
   "source": [
    "import pandas as pd\n",
    "import webbrowser\n",
    "\n",
    "# Carga el archivo user_reviews\n",
    "ruta_archivo = r'C:\\Users\\ASUS\\Desktop\\PI_ML_OPS\\DATASET  Y EDA PROYECTO INDIVIDUAL\\user_reviews_corregido_con_sentiment.json'\n",
    "\n",
    "# Carga el archivo JSON en un DataFrame de Pandas\n",
    "df = pd.read_json(ruta_archivo)\n",
    "\n",
    "# Elimina las filas con valores nulos en el DataFrame\n",
    "df_clean = df.dropna()\n",
    "\n",
    "# Verifica la nueva forma del DataFrame limpio\n",
    "print(\"Número de filas y columnas en el DataFrame limpio:\", df_clean.shape)\n",
    "\n",
    "# Ver las primeras 5 filas del DataFrame limpio\n",
    "print(\"Primeras 5 filas del DataFrame limpio:\")\n",
    "print(df_clean.head())\n",
    "\n",
    "# Se obtiene estadística descriptiva para todas las columnas\n",
    "descriptivas = df_clean.describe(include='all')\n",
    "\n",
    "# Muestra estadística descriptiva\n",
    "print(descriptivas)\n",
    "\n",
    "# Generará un informe HTML del DataFrame limpio\n",
    "html_report = df_clean.to_html()\n",
    "\n",
    "# Se escribirá el informe HTML en un archivo con codificación 'utf-8'\n",
    "with open('data_clean_report.html', 'w', encoding='utf-8') as f:\n",
    "    f.write(html_report)\n",
    "    print(\"Informe HTML generado exitosamente.\")\n",
    "\n",
    "# Ruta del archivo HTML del informe\n",
    "ruta_informe = \"data_clean_report.html\"\n",
    "\n",
    "# Nos abrirá el informe en el navegador web predeterminado\n",
    "webbrowser.open(ruta_informe)\n"
   ]
  },
  {
   "cell_type": "markdown",
   "metadata": {},
   "source": [
    "                            TRABAJO DE INGENIERIA DE DATOS. ARCHIVO:(\"user_items.gz.json\")"
   ]
  },
  {
   "cell_type": "code",
   "execution_count": 35,
   "metadata": {},
   "outputs": [
    {
     "name": "stderr",
     "output_type": "stream",
     "text": [
      "Downloading...\n",
      "From (uriginal): https://drive.google.com/uc?id=1wgjHpBK6zQlSY52TrXlqOnUW-G5pelXQ\n",
      "From (redirected): https://drive.google.com/uc?id=1wgjHpBK6zQlSY52TrXlqOnUW-G5pelXQ&confirm=t&uuid=65ecc025-815c-42cc-88e7-c8a996799082\n",
      "To: c:\\Users\\ASUS\\Desktop\\PI_ML_OPS\\DATASET  Y EDA PROYECTO INDIVIDUAL\\user_items.gz\n",
      "100%|██████████| 73.6M/73.6M [00:15<00:00, 4.77MB/s]\n"
     ]
    },
    {
     "data": {
      "text/plain": [
       "'user_items.gz'"
      ]
     },
     "execution_count": 35,
     "metadata": {},
     "output_type": "execute_result"
    }
   ],
   "source": [
    "import gdown\n",
    "\n",
    "# URL de Google Drive del archivo a descargar\n",
    "url = 'https://drive.google.com/uc?id=1wgjHpBK6zQlSY52TrXlqOnUW-G5pelXQ'\n",
    "\n",
    "# Ruta de destino para guardar el archivo descargado\n",
    "output = 'user_items.gz'\n",
    "\n",
    "# Descarga el archivo desde Google Drive\n",
    "gdown.download(url, output, quiet=False)\n"
   ]
  },
  {
   "cell_type": "code",
   "execution_count": 47,
   "metadata": {},
   "outputs": [
    {
     "name": "stdout",
     "output_type": "stream",
     "text": [
      "Primeros registros del DataFrame:\n",
      "             user_id  items_count           steam_id  \\\n",
      "0  76561197970982479          277  76561197970982479   \n",
      "1            js41637          888  76561198035864385   \n",
      "2          evcentric          137  76561198007712555   \n",
      "3         Riot-Punch          328  76561197963445855   \n",
      "4              doctr          541  76561198002099482   \n",
      "\n",
      "                                            user_url  \\\n",
      "0  http://steamcommunity.com/profiles/76561197970...   \n",
      "1               http://steamcommunity.com/id/js41637   \n",
      "2             http://steamcommunity.com/id/evcentric   \n",
      "3            http://steamcommunity.com/id/Riot-Punch   \n",
      "4                 http://steamcommunity.com/id/doctr   \n",
      "\n",
      "                                               items  \n",
      "0  [{'item_id': '10', 'item_name': 'Counter-Strik...  \n",
      "1  [{'item_id': '10', 'item_name': 'Counter-Strik...  \n",
      "2  [{'item_id': '1200', 'item_name': 'Red Orchest...  \n",
      "3  [{'item_id': '10', 'item_name': 'Counter-Strik...  \n",
      "4  [{'item_id': '300', 'item_name': 'Day of Defea...  \n",
      "\n",
      "Estadísticas descriptivas del DataFrame:\n",
      "        items_count\n",
      "count  88310.000000\n",
      "mean      58.353629\n",
      "std      122.312095\n",
      "min        0.000000\n",
      "25%        3.000000\n",
      "50%       26.000000\n",
      "75%       73.000000\n",
      "max     7762.000000\n"
     ]
    },
    {
     "name": "stderr",
     "output_type": "stream",
     "text": [
      "2023-12-31 13:40:02,740 - INFO     - Executing shutdown due to inactivity...\n",
      "2023-12-31 13:40:11,328 - INFO     - Executing shutdown...\n",
      "2023-12-31 13:40:11,336 - INFO     - Not running with the Werkzeug Server, exiting by searching gc for BaseWSGIServer\n"
     ]
    }
   ],
   "source": [
    "import pandas as pd\n",
    "import gzip\n",
    "import ast\n",
    "\n",
    "# Ruta del archivo comprimido\n",
    "users_items = r'C:\\Users\\ASUS\\Desktop\\PI_ML_OPS\\DATASET  Y EDA PROYECTO INDIVIDUAL\\user_items.gz'\n",
    "filas = []\n",
    "\n",
    "with gzip.open(users_items, 'rt', encoding='utf-8') as archivo:\n",
    "    for line in archivo.readlines():\n",
    "        filas.append(ast.literal_eval(line))\n",
    "\n",
    "users_items_df = pd.DataFrame(filas)\n",
    "\n",
    "# Realiza el Análisis Exploratorio de Datos (EDA)\n",
    "# Muestra los primeros registros del DataFrame\n",
    "print(\"Primeros registros del DataFrame:\")\n",
    "print(users_items_df.head())\n",
    "\n",
    "# Muestra la estadística descriptiva del DataFrame\n",
    "print(\"\\nEstadísticas descriptivas del DataFrame:\")\n",
    "print(users_items_df.describe())\n"
   ]
  },
  {
   "cell_type": "code",
   "execution_count": 48,
   "metadata": {},
   "outputs": [
    {
     "data": {
      "application/vnd.jupyter.widget-view+json": {
       "model_id": "439a6f006a6b42339e523cb55a2ccbac",
       "version_major": 2,
       "version_minor": 0
      },
      "text/plain": [
       "Summarize dataset:   0%|          | 0/5 [00:00<?, ?it/s]"
      ]
     },
     "metadata": {},
     "output_type": "display_data"
    },
    {
     "name": "stderr",
     "output_type": "stream",
     "text": [
      "C:\\Users\\ASUS\\AppData\\Local\\Packages\\PythonSoftwareFoundation.Python.3.10_qbz5n2kfra8p0\\LocalCache\\local-packages\\Python310\\site-packages\\ydata_profiling\\model\\typeset.py:208: FutureWarning:\n",
      "\n",
      "is_categorical_dtype is deprecated and will be removed in a future version. Use isinstance(dtype, CategoricalDtype) instead\n",
      "\n",
      "C:\\Users\\ASUS\\AppData\\Local\\Packages\\PythonSoftwareFoundation.Python.3.10_qbz5n2kfra8p0\\LocalCache\\local-packages\\Python310\\site-packages\\ydata_profiling\\model\\typeset.py:125: FutureWarning:\n",
      "\n",
      "is_categorical_dtype is deprecated and will be removed in a future version. Use isinstance(dtype, CategoricalDtype) instead\n",
      "\n",
      "C:\\Users\\ASUS\\AppData\\Local\\Packages\\PythonSoftwareFoundation.Python.3.10_qbz5n2kfra8p0\\LocalCache\\local-packages\\Python310\\site-packages\\ydata_profiling\\model\\typeset.py:208: FutureWarning:\n",
      "\n",
      "is_categorical_dtype is deprecated and will be removed in a future version. Use isinstance(dtype, CategoricalDtype) instead\n",
      "\n",
      "C:\\Users\\ASUS\\AppData\\Local\\Packages\\PythonSoftwareFoundation.Python.3.10_qbz5n2kfra8p0\\LocalCache\\local-packages\\Python310\\site-packages\\ydata_profiling\\model\\typeset.py:125: FutureWarning:\n",
      "\n",
      "is_categorical_dtype is deprecated and will be removed in a future version. Use isinstance(dtype, CategoricalDtype) instead\n",
      "\n",
      "C:\\Users\\ASUS\\AppData\\Local\\Packages\\PythonSoftwareFoundation.Python.3.10_qbz5n2kfra8p0\\LocalCache\\local-packages\\Python310\\site-packages\\ydata_profiling\\model\\typeset.py:208: FutureWarning:\n",
      "\n",
      "is_categorical_dtype is deprecated and will be removed in a future version. Use isinstance(dtype, CategoricalDtype) instead\n",
      "\n",
      "C:\\Users\\ASUS\\AppData\\Local\\Packages\\PythonSoftwareFoundation.Python.3.10_qbz5n2kfra8p0\\LocalCache\\local-packages\\Python310\\site-packages\\ydata_profiling\\model\\typeset.py:125: FutureWarning:\n",
      "\n",
      "is_categorical_dtype is deprecated and will be removed in a future version. Use isinstance(dtype, CategoricalDtype) instead\n",
      "\n",
      "C:\\Users\\ASUS\\AppData\\Local\\Packages\\PythonSoftwareFoundation.Python.3.10_qbz5n2kfra8p0\\LocalCache\\local-packages\\Python310\\site-packages\\ydata_profiling\\model\\typeset_relations.py:34: FutureWarning:\n",
      "\n",
      "is_categorical_dtype is deprecated and will be removed in a future version. Use isinstance(dtype, CategoricalDtype) instead\n",
      "\n",
      "C:\\Users\\ASUS\\AppData\\Local\\Packages\\PythonSoftwareFoundation.Python.3.10_qbz5n2kfra8p0\\LocalCache\\local-packages\\Python310\\site-packages\\ydata_profiling\\model\\typeset.py:208: FutureWarning:\n",
      "\n",
      "is_categorical_dtype is deprecated and will be removed in a future version. Use isinstance(dtype, CategoricalDtype) instead\n",
      "\n",
      "C:\\Users\\ASUS\\AppData\\Local\\Packages\\PythonSoftwareFoundation.Python.3.10_qbz5n2kfra8p0\\LocalCache\\local-packages\\Python310\\site-packages\\ydata_profiling\\model\\typeset.py:125: FutureWarning:\n",
      "\n",
      "is_categorical_dtype is deprecated and will be removed in a future version. Use isinstance(dtype, CategoricalDtype) instead\n",
      "\n",
      "C:\\Users\\ASUS\\AppData\\Local\\Packages\\PythonSoftwareFoundation.Python.3.10_qbz5n2kfra8p0\\LocalCache\\local-packages\\Python310\\site-packages\\ydata_profiling\\model\\typeset.py:208: FutureWarning:\n",
      "\n",
      "is_categorical_dtype is deprecated and will be removed in a future version. Use isinstance(dtype, CategoricalDtype) instead\n",
      "\n",
      "C:\\Users\\ASUS\\AppData\\Local\\Packages\\PythonSoftwareFoundation.Python.3.10_qbz5n2kfra8p0\\LocalCache\\local-packages\\Python310\\site-packages\\ydata_profiling\\model\\typeset.py:125: FutureWarning:\n",
      "\n",
      "is_categorical_dtype is deprecated and will be removed in a future version. Use isinstance(dtype, CategoricalDtype) instead\n",
      "\n",
      "C:\\Users\\ASUS\\AppData\\Local\\Packages\\PythonSoftwareFoundation.Python.3.10_qbz5n2kfra8p0\\LocalCache\\local-packages\\Python310\\site-packages\\ydata_profiling\\model\\typeset_relations.py:34: FutureWarning:\n",
      "\n",
      "is_categorical_dtype is deprecated and will be removed in a future version. Use isinstance(dtype, CategoricalDtype) instead\n",
      "\n",
      "C:\\Users\\ASUS\\AppData\\Local\\Packages\\PythonSoftwareFoundation.Python.3.10_qbz5n2kfra8p0\\LocalCache\\local-packages\\Python310\\site-packages\\ydata_profiling\\model\\typeset_relations.py:34: FutureWarning:\n",
      "\n",
      "is_categorical_dtype is deprecated and will be removed in a future version. Use isinstance(dtype, CategoricalDtype) instead\n",
      "\n",
      "C:\\Users\\ASUS\\AppData\\Local\\Packages\\PythonSoftwareFoundation.Python.3.10_qbz5n2kfra8p0\\LocalCache\\local-packages\\Python310\\site-packages\\ydata_profiling\\model\\typeset.py:208: FutureWarning:\n",
      "\n",
      "is_categorical_dtype is deprecated and will be removed in a future version. Use isinstance(dtype, CategoricalDtype) instead\n",
      "\n",
      "C:\\Users\\ASUS\\AppData\\Local\\Packages\\PythonSoftwareFoundation.Python.3.10_qbz5n2kfra8p0\\LocalCache\\local-packages\\Python310\\site-packages\\ydata_profiling\\model\\typeset.py:125: FutureWarning:\n",
      "\n",
      "is_categorical_dtype is deprecated and will be removed in a future version. Use isinstance(dtype, CategoricalDtype) instead\n",
      "\n",
      "C:\\Users\\ASUS\\AppData\\Local\\Packages\\PythonSoftwareFoundation.Python.3.10_qbz5n2kfra8p0\\LocalCache\\local-packages\\Python310\\site-packages\\ydata_profiling\\model\\typeset_relations.py:34: FutureWarning:\n",
      "\n",
      "is_categorical_dtype is deprecated and will be removed in a future version. Use isinstance(dtype, CategoricalDtype) instead\n",
      "\n",
      "C:\\Users\\ASUS\\AppData\\Local\\Packages\\PythonSoftwareFoundation.Python.3.10_qbz5n2kfra8p0\\LocalCache\\local-packages\\Python310\\site-packages\\ydata_profiling\\model\\typeset.py:208: FutureWarning:\n",
      "\n",
      "is_categorical_dtype is deprecated and will be removed in a future version. Use isinstance(dtype, CategoricalDtype) instead\n",
      "\n",
      "C:\\Users\\ASUS\\AppData\\Local\\Packages\\PythonSoftwareFoundation.Python.3.10_qbz5n2kfra8p0\\LocalCache\\local-packages\\Python310\\site-packages\\ydata_profiling\\model\\typeset.py:125: FutureWarning:\n",
      "\n",
      "is_categorical_dtype is deprecated and will be removed in a future version. Use isinstance(dtype, CategoricalDtype) instead\n",
      "\n",
      "C:\\Users\\ASUS\\AppData\\Local\\Packages\\PythonSoftwareFoundation.Python.3.10_qbz5n2kfra8p0\\LocalCache\\local-packages\\Python310\\site-packages\\ydata_profiling\\model\\typeset.py:208: FutureWarning:\n",
      "\n",
      "is_categorical_dtype is deprecated and will be removed in a future version. Use isinstance(dtype, CategoricalDtype) instead\n",
      "\n",
      "C:\\Users\\ASUS\\AppData\\Local\\Packages\\PythonSoftwareFoundation.Python.3.10_qbz5n2kfra8p0\\LocalCache\\local-packages\\Python310\\site-packages\\ydata_profiling\\model\\typeset.py:125: FutureWarning:\n",
      "\n",
      "is_categorical_dtype is deprecated and will be removed in a future version. Use isinstance(dtype, CategoricalDtype) instead\n",
      "\n",
      "2023-12-31 14:19:37,947 - INFO     - Using categorical units to plot a list of strings that are all parsable as floats or dates. If these strings should be plotted as numbers, cast to the appropriate data type before plotting.\n",
      "2023-12-31 14:25:45,926 - INFO     - Using categorical units to plot a list of strings that are all parsable as floats or dates. If these strings should be plotted as numbers, cast to the appropriate data type before plotting.\n",
      "2023-12-31 14:34:09,772 - INFO     - Using categorical units to plot a list of strings that are all parsable as floats or dates. If these strings should be plotted as numbers, cast to the appropriate data type before plotting.\n",
      "2023-12-31 14:34:10,657 - INFO     - Using categorical units to plot a list of strings that are all parsable as floats or dates. If these strings should be plotted as numbers, cast to the appropriate data type before plotting.\n"
     ]
    },
    {
     "data": {
      "application/vnd.jupyter.widget-view+json": {
       "model_id": "4b5411a09b944ca8a61b115f924c2933",
       "version_major": 2,
       "version_minor": 0
      },
      "text/plain": [
       "Generate report structure:   0%|          | 0/1 [00:02<?, ?it/s]"
      ]
     },
     "metadata": {},
     "output_type": "display_data"
    },
    {
     "data": {
      "application/vnd.jupyter.widget-view+json": {
       "model_id": "49771fe08394401e8b9c97f32b829ebf",
       "version_major": 2,
       "version_minor": 0
      },
      "text/plain": [
       "Render HTML:   0%|          | 0/1 [00:00<?, ?it/s]"
      ]
     },
     "metadata": {},
     "output_type": "display_data"
    },
    {
     "data": {
      "application/vnd.jupyter.widget-view+json": {
       "model_id": "24841a7c8992436d8b4656d4902fc447",
       "version_major": 2,
       "version_minor": 0
      },
      "text/plain": [
       "Export report to file:   0%|          | 0/1 [00:00<?, ?it/s]"
      ]
     },
     "metadata": {},
     "output_type": "display_data"
    }
   ],
   "source": [
    "import pandas as pd\n",
    "from ydata_profiling import ProfileReport\n",
    "import gzip\n",
    "\n",
    "# Ruta del archivo comprimido\n",
    "ruta_archivo = r'C:\\Users\\ASUS\\Desktop\\PI_ML_OPS\\DATASET  Y EDA PROYECTO INDIVIDUAL\\user_items.gz'\n",
    "\n",
    "# Descomprimir el archivo gzip y cargar los datos en un DataFrame de Pandas\n",
    "filas = []\n",
    "with gzip.open(ruta_archivo, 'rt', encoding='utf-8') as archivo:\n",
    "    for line in archivo.readlines():\n",
    "        filas.append(pd.json_normalize(eval(line)))  # Esto depende del formato del archivo comprimido\n",
    "\n",
    "# Convertir la lista de diccionarios en un DataFrame\n",
    "users_items = pd.concat(filas, ignore_index=True)\n",
    "\n",
    "# Generar el informe de análisis exploratorio de datos\n",
    "profile = ProfileReport(users_items, title=\"Informe de Análisis Exploratorio de Datos\")\n",
    "\n",
    "# Guardar el informe en un archivo HTML\n",
    "profile.to_file(\"informe_analisis_exploratorio.html\")\n"
   ]
  },
  {
   "cell_type": "code",
   "execution_count": 54,
   "metadata": {},
   "outputs": [
    {
     "data": {
      "text/html": [
       "\n",
       "        <iframe\n",
       "            width=\"1000\"\n",
       "            height=\"600\"\n",
       "            src=\"informe_analisis_exploratorio.html\"\n",
       "            frameborder=\"0\"\n",
       "            allowfullscreen\n",
       "            \n",
       "        ></iframe>\n",
       "        "
      ],
      "text/plain": [
       "<IPython.lib.display.IFrame at 0x2035ec7c100>"
      ]
     },
     "metadata": {},
     "output_type": "display_data"
    },
    {
     "data": {
      "text/plain": [
       "True"
      ]
     },
     "execution_count": 54,
     "metadata": {},
     "output_type": "execute_result"
    }
   ],
   "source": [
    "from IPython.display import IFrame, display\n",
    "\n",
    "# Ruta al archivo HTML del informe generado\n",
    "ruta_informe = \"informe_analisis_exploratorio.html\"\n",
    "\n",
    "# Método 1: Muestra el informe en un Jupyter Notebook utilizando IPython.display\n",
    "display(IFrame(ruta_informe, width=1000, height=600))\n",
    "\n",
    "# Método 2: Abre el informe en el navegador web predeterminado\n",
    "import webbrowser\n",
    "webbrowser.open(ruta_informe)\n"
   ]
  }
 ],
 "metadata": {
  "kernelspec": {
   "display_name": "Python 3",
   "language": "python",
   "name": "python3"
  },
  "language_info": {
   "codemirror_mode": {
    "name": "ipython",
    "version": 3
   },
   "file_extension": ".py",
   "mimetype": "text/x-python",
   "name": "python",
   "nbconvert_exporter": "python",
   "pygments_lexer": "ipython3",
   "version": "3.10.11"
  }
 },
 "nbformat": 4,
 "nbformat_minor": 2
}
